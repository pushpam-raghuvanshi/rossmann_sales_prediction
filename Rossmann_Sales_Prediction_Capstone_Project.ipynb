{
  "cells": [
    {
      "cell_type": "markdown",
      "metadata": {
        "id": "tOGC-qoyhJeX"
      },
      "source": [
        "# <b><u> Project Title : Sales Prediction : Predicting sales of a major store chain Rossmann</u></b>"
      ]
    },
    {
      "cell_type": "markdown",
      "metadata": {
        "id": "Y06xIdG26kRF"
      },
      "source": [
        "## <b> Problem Description </b>\n",
        "\n",
        "### Rossmann operates over 3,000 drug stores in 7 European countries. Currently, Rossmann store managers are tasked with predicting their daily sales for up to six weeks in advance. Store sales are influenced by many factors, including promotions, competition, school and state holidays, seasonality, and locality. With thousands of individual managers predicting sales based on their unique circumstances, the accuracy of results can be quite varied.\n",
        "\n",
        "### You are provided with historical sales data for 1,115 Rossmann stores. The task is to forecast the \"Sales\" column for the test set. Note that some stores in the dataset were temporarily closed for refurbishment."
      ]
    },
    {
      "cell_type": "markdown",
      "metadata": {
        "id": "WWeU1f9bwqQq"
      },
      "source": [
        "## <b> Data Description </b>\n",
        "\n",
        "### <b>Rossmann Stores Data.csv </b> - historical data including Sales\n",
        "### <b>store.csv </b> - supplemental information about the stores\n",
        "\n",
        "\n",
        "### <b><u>Data fields</u></b>\n",
        "### Most of the fields are self-explanatory. The following are descriptions for those that aren't.\n",
        "\n",
        "* #### Id - an Id that represents a (Store, Date) duple within the test set\n",
        "* #### Store - a unique Id for each store\n",
        "* #### Sales - the turnover for any given day (this is what you are predicting)\n",
        "* #### Customers - the number of customers on a given day\n",
        "* #### Open - an indicator for whether the store was open: 0 = closed, 1 = open\n",
        "* #### StateHoliday - indicates a state holiday. Normally all stores, with few exceptions, are closed on state holidays. Note that all schools are closed on public holidays and weekends. a = public holiday, b = Easter holiday, c = Christmas, 0 = None\n",
        "* #### SchoolHoliday - indicates if the (Store, Date) was affected by the closure of public schools\n",
        "* #### StoreType - differentiates between 4 different store models: a, b, c, d\n",
        "* #### Assortment - describes an assortment level: a = basic, b = extra, c = extended\n",
        "* #### CompetitionDistance - distance in meters to the nearest competitor store\n",
        "* #### CompetitionOpenSince[Month/Year] - gives the approximate year and month of the time the nearest competitor was opened\n",
        "* #### Promo - indicates whether a store is running a promo on that day\n",
        "* #### Promo2 - Promo2 is a continuing and consecutive promotion for some stores: 0 = store is not participating, 1 = store is participating\n",
        "* #### Promo2Since[Year/Week] - describes the year and calendar week when the store started participating in Promo2\n",
        "* #### PromoInterval - describes the consecutive intervals Promo2 is started, naming the months the promotion is started anew. E.g. \"Feb,May,Aug,Nov\" means each round starts in February, May, August, November of any given year for that store"
      ]
    },
    {
      "cell_type": "markdown",
      "metadata": {
        "id": "Eyaz_SDPiSKk"
      },
      "source": [
        "## <b> Mounting the Google Drive </b>"
      ]
    },
    {
      "cell_type": "code",
      "execution_count": 1,
      "metadata": {
        "colab": {
          "base_uri": "https://localhost:8080/"
        },
        "id": "5Yl12DPwTeT5",
        "outputId": "f069354a-1d7b-4b40-f639-a95f73dc65e6"
      },
      "outputs": [
        {
          "output_type": "stream",
          "name": "stdout",
          "text": [
            "Mounted at /content/drive\n"
          ]
        }
      ],
      "source": [
        "# Mounting the Google Drive\n",
        "from google.colab import drive\n",
        "drive.mount('/content/drive')"
      ]
    },
    {
      "cell_type": "markdown",
      "metadata": {
        "id": "AkJQxrGeiWyV"
      },
      "source": [
        "## <b> Importing Libraries </b>"
      ]
    },
    {
      "cell_type": "code",
      "execution_count": 90,
      "metadata": {
        "id": "xum_agu3T1kf"
      },
      "outputs": [],
      "source": [
        "# Importing Necessary Libraries\n",
        "import numpy as np\n",
        "import pandas as pd\n",
        "import matplotlib.pyplot as plt\n",
        "import seaborn as sns"
      ]
    },
    {
      "cell_type": "markdown",
      "metadata": {
        "id": "WMUkC6Cbijlw"
      },
      "source": [
        "## <b> Loading Datasets </b>"
      ]
    },
    {
      "cell_type": "code",
      "execution_count": 91,
      "metadata": {
        "colab": {
          "base_uri": "https://localhost:8080/"
        },
        "id": "9xy01oKtTfzu",
        "outputId": "73bdc4d8-001a-4eeb-eb94-c01905d4a1aa"
      },
      "outputs": [
        {
          "output_type": "stream",
          "name": "stderr",
          "text": [
            "/usr/local/lib/python3.7/dist-packages/IPython/core/interactiveshell.py:3326: DtypeWarning: Columns (7) have mixed types.Specify dtype option on import or set low_memory=False.\n",
            "  exec(code_obj, self.user_global_ns, self.user_ns)\n"
          ]
        }
      ],
      "source": [
        "# Loading the Datasets\n",
        "# Rossmann Stores Data.csv - Historical Data including Sales\n",
        "file_path_1 = '/content/drive/MyDrive/AlmaBetter/Capstone Projects /Retail Sales Prediction - Pushpam Raghuvanshi/Data & Resources/Rossmann Stores Data.csv'\n",
        "df1 = pd.read_csv(file_path_1, parse_dates = True, index_col = 'Date')\n",
        "# store.csv - Supplemental information about the stores\n",
        "file_path_2 = '/content/drive/MyDrive/AlmaBetter/Capstone Projects /Retail Sales Prediction - Pushpam Raghuvanshi/Data & Resources/store.csv'\n",
        "df2 = pd.read_csv(file_path_2)"
      ]
    },
    {
      "cell_type": "markdown",
      "metadata": {
        "id": "2y2aTscgipIC"
      },
      "source": [
        "## <b> Overview of Datasets </b>"
      ]
    },
    {
      "cell_type": "code",
      "execution_count": 92,
      "metadata": {
        "colab": {
          "base_uri": "https://localhost:8080/",
          "height": 255
        },
        "id": "9Ggutvb4WRga",
        "outputId": "f7e9884d-1cba-4f94-c1e7-3a7c8852c900"
      },
      "outputs": [
        {
          "output_type": "stream",
          "name": "stdout",
          "text": [
            "Number of records and features (1017209, 8)\n"
          ]
        },
        {
          "output_type": "execute_result",
          "data": {
            "text/plain": [
              "            Store  DayOfWeek  Sales  Customers  Open  Promo StateHoliday  \\\n",
              "Date                                                                       \n",
              "2015-07-31      1          5   5263        555     1      1            0   \n",
              "2015-07-31      2          5   6064        625     1      1            0   \n",
              "2015-07-31      3          5   8314        821     1      1            0   \n",
              "2015-07-31      4          5  13995       1498     1      1            0   \n",
              "2015-07-31      5          5   4822        559     1      1            0   \n",
              "\n",
              "            SchoolHoliday  \n",
              "Date                       \n",
              "2015-07-31              1  \n",
              "2015-07-31              1  \n",
              "2015-07-31              1  \n",
              "2015-07-31              1  \n",
              "2015-07-31              1  "
            ],
            "text/html": [
              "\n",
              "  <div id=\"df-4b89a7fc-c63e-41a8-be48-15e01876dbd2\">\n",
              "    <div class=\"colab-df-container\">\n",
              "      <div>\n",
              "<style scoped>\n",
              "    .dataframe tbody tr th:only-of-type {\n",
              "        vertical-align: middle;\n",
              "    }\n",
              "\n",
              "    .dataframe tbody tr th {\n",
              "        vertical-align: top;\n",
              "    }\n",
              "\n",
              "    .dataframe thead th {\n",
              "        text-align: right;\n",
              "    }\n",
              "</style>\n",
              "<table border=\"1\" class=\"dataframe\">\n",
              "  <thead>\n",
              "    <tr style=\"text-align: right;\">\n",
              "      <th></th>\n",
              "      <th>Store</th>\n",
              "      <th>DayOfWeek</th>\n",
              "      <th>Sales</th>\n",
              "      <th>Customers</th>\n",
              "      <th>Open</th>\n",
              "      <th>Promo</th>\n",
              "      <th>StateHoliday</th>\n",
              "      <th>SchoolHoliday</th>\n",
              "    </tr>\n",
              "    <tr>\n",
              "      <th>Date</th>\n",
              "      <th></th>\n",
              "      <th></th>\n",
              "      <th></th>\n",
              "      <th></th>\n",
              "      <th></th>\n",
              "      <th></th>\n",
              "      <th></th>\n",
              "      <th></th>\n",
              "    </tr>\n",
              "  </thead>\n",
              "  <tbody>\n",
              "    <tr>\n",
              "      <th>2015-07-31</th>\n",
              "      <td>1</td>\n",
              "      <td>5</td>\n",
              "      <td>5263</td>\n",
              "      <td>555</td>\n",
              "      <td>1</td>\n",
              "      <td>1</td>\n",
              "      <td>0</td>\n",
              "      <td>1</td>\n",
              "    </tr>\n",
              "    <tr>\n",
              "      <th>2015-07-31</th>\n",
              "      <td>2</td>\n",
              "      <td>5</td>\n",
              "      <td>6064</td>\n",
              "      <td>625</td>\n",
              "      <td>1</td>\n",
              "      <td>1</td>\n",
              "      <td>0</td>\n",
              "      <td>1</td>\n",
              "    </tr>\n",
              "    <tr>\n",
              "      <th>2015-07-31</th>\n",
              "      <td>3</td>\n",
              "      <td>5</td>\n",
              "      <td>8314</td>\n",
              "      <td>821</td>\n",
              "      <td>1</td>\n",
              "      <td>1</td>\n",
              "      <td>0</td>\n",
              "      <td>1</td>\n",
              "    </tr>\n",
              "    <tr>\n",
              "      <th>2015-07-31</th>\n",
              "      <td>4</td>\n",
              "      <td>5</td>\n",
              "      <td>13995</td>\n",
              "      <td>1498</td>\n",
              "      <td>1</td>\n",
              "      <td>1</td>\n",
              "      <td>0</td>\n",
              "      <td>1</td>\n",
              "    </tr>\n",
              "    <tr>\n",
              "      <th>2015-07-31</th>\n",
              "      <td>5</td>\n",
              "      <td>5</td>\n",
              "      <td>4822</td>\n",
              "      <td>559</td>\n",
              "      <td>1</td>\n",
              "      <td>1</td>\n",
              "      <td>0</td>\n",
              "      <td>1</td>\n",
              "    </tr>\n",
              "  </tbody>\n",
              "</table>\n",
              "</div>\n",
              "      <button class=\"colab-df-convert\" onclick=\"convertToInteractive('df-4b89a7fc-c63e-41a8-be48-15e01876dbd2')\"\n",
              "              title=\"Convert this dataframe to an interactive table.\"\n",
              "              style=\"display:none;\">\n",
              "        \n",
              "  <svg xmlns=\"http://www.w3.org/2000/svg\" height=\"24px\"viewBox=\"0 0 24 24\"\n",
              "       width=\"24px\">\n",
              "    <path d=\"M0 0h24v24H0V0z\" fill=\"none\"/>\n",
              "    <path d=\"M18.56 5.44l.94 2.06.94-2.06 2.06-.94-2.06-.94-.94-2.06-.94 2.06-2.06.94zm-11 1L8.5 8.5l.94-2.06 2.06-.94-2.06-.94L8.5 2.5l-.94 2.06-2.06.94zm10 10l.94 2.06.94-2.06 2.06-.94-2.06-.94-.94-2.06-.94 2.06-2.06.94z\"/><path d=\"M17.41 7.96l-1.37-1.37c-.4-.4-.92-.59-1.43-.59-.52 0-1.04.2-1.43.59L10.3 9.45l-7.72 7.72c-.78.78-.78 2.05 0 2.83L4 21.41c.39.39.9.59 1.41.59.51 0 1.02-.2 1.41-.59l7.78-7.78 2.81-2.81c.8-.78.8-2.07 0-2.86zM5.41 20L4 18.59l7.72-7.72 1.47 1.35L5.41 20z\"/>\n",
              "  </svg>\n",
              "      </button>\n",
              "      \n",
              "  <style>\n",
              "    .colab-df-container {\n",
              "      display:flex;\n",
              "      flex-wrap:wrap;\n",
              "      gap: 12px;\n",
              "    }\n",
              "\n",
              "    .colab-df-convert {\n",
              "      background-color: #E8F0FE;\n",
              "      border: none;\n",
              "      border-radius: 50%;\n",
              "      cursor: pointer;\n",
              "      display: none;\n",
              "      fill: #1967D2;\n",
              "      height: 32px;\n",
              "      padding: 0 0 0 0;\n",
              "      width: 32px;\n",
              "    }\n",
              "\n",
              "    .colab-df-convert:hover {\n",
              "      background-color: #E2EBFA;\n",
              "      box-shadow: 0px 1px 2px rgba(60, 64, 67, 0.3), 0px 1px 3px 1px rgba(60, 64, 67, 0.15);\n",
              "      fill: #174EA6;\n",
              "    }\n",
              "\n",
              "    [theme=dark] .colab-df-convert {\n",
              "      background-color: #3B4455;\n",
              "      fill: #D2E3FC;\n",
              "    }\n",
              "\n",
              "    [theme=dark] .colab-df-convert:hover {\n",
              "      background-color: #434B5C;\n",
              "      box-shadow: 0px 1px 3px 1px rgba(0, 0, 0, 0.15);\n",
              "      filter: drop-shadow(0px 1px 2px rgba(0, 0, 0, 0.3));\n",
              "      fill: #FFFFFF;\n",
              "    }\n",
              "  </style>\n",
              "\n",
              "      <script>\n",
              "        const buttonEl =\n",
              "          document.querySelector('#df-4b89a7fc-c63e-41a8-be48-15e01876dbd2 button.colab-df-convert');\n",
              "        buttonEl.style.display =\n",
              "          google.colab.kernel.accessAllowed ? 'block' : 'none';\n",
              "\n",
              "        async function convertToInteractive(key) {\n",
              "          const element = document.querySelector('#df-4b89a7fc-c63e-41a8-be48-15e01876dbd2');\n",
              "          const dataTable =\n",
              "            await google.colab.kernel.invokeFunction('convertToInteractive',\n",
              "                                                     [key], {});\n",
              "          if (!dataTable) return;\n",
              "\n",
              "          const docLinkHtml = 'Like what you see? Visit the ' +\n",
              "            '<a target=\"_blank\" href=https://colab.research.google.com/notebooks/data_table.ipynb>data table notebook</a>'\n",
              "            + ' to learn more about interactive tables.';\n",
              "          element.innerHTML = '';\n",
              "          dataTable['output_type'] = 'display_data';\n",
              "          await google.colab.output.renderOutput(dataTable, element);\n",
              "          const docLink = document.createElement('div');\n",
              "          docLink.innerHTML = docLinkHtml;\n",
              "          element.appendChild(docLink);\n",
              "        }\n",
              "      </script>\n",
              "    </div>\n",
              "  </div>\n",
              "  "
            ]
          },
          "metadata": {},
          "execution_count": 92
        }
      ],
      "source": [
        "print('Number of records and features', df1.shape)\n",
        "df1.head()"
      ]
    },
    {
      "cell_type": "code",
      "execution_count": 93,
      "metadata": {
        "colab": {
          "base_uri": "https://localhost:8080/",
          "height": 288
        },
        "id": "7k-SFvXLWnbF",
        "outputId": "fa20ecee-535a-47fe-d771-e13a77a061f6"
      },
      "outputs": [
        {
          "output_type": "stream",
          "name": "stdout",
          "text": [
            "Number of records and features (1115, 10)\n"
          ]
        },
        {
          "output_type": "execute_result",
          "data": {
            "text/plain": [
              "   Store StoreType Assortment  CompetitionDistance  CompetitionOpenSinceMonth  \\\n",
              "0      1         c          a               1270.0                        9.0   \n",
              "1      2         a          a                570.0                       11.0   \n",
              "2      3         a          a              14130.0                       12.0   \n",
              "3      4         c          c                620.0                        9.0   \n",
              "4      5         a          a              29910.0                        4.0   \n",
              "\n",
              "   CompetitionOpenSinceYear  Promo2  Promo2SinceWeek  Promo2SinceYear  \\\n",
              "0                    2008.0       0              NaN              NaN   \n",
              "1                    2007.0       1             13.0           2010.0   \n",
              "2                    2006.0       1             14.0           2011.0   \n",
              "3                    2009.0       0              NaN              NaN   \n",
              "4                    2015.0       0              NaN              NaN   \n",
              "\n",
              "     PromoInterval  \n",
              "0              NaN  \n",
              "1  Jan,Apr,Jul,Oct  \n",
              "2  Jan,Apr,Jul,Oct  \n",
              "3              NaN  \n",
              "4              NaN  "
            ],
            "text/html": [
              "\n",
              "  <div id=\"df-8ee694b1-9cad-4308-be8d-49d1c2bdd5d2\">\n",
              "    <div class=\"colab-df-container\">\n",
              "      <div>\n",
              "<style scoped>\n",
              "    .dataframe tbody tr th:only-of-type {\n",
              "        vertical-align: middle;\n",
              "    }\n",
              "\n",
              "    .dataframe tbody tr th {\n",
              "        vertical-align: top;\n",
              "    }\n",
              "\n",
              "    .dataframe thead th {\n",
              "        text-align: right;\n",
              "    }\n",
              "</style>\n",
              "<table border=\"1\" class=\"dataframe\">\n",
              "  <thead>\n",
              "    <tr style=\"text-align: right;\">\n",
              "      <th></th>\n",
              "      <th>Store</th>\n",
              "      <th>StoreType</th>\n",
              "      <th>Assortment</th>\n",
              "      <th>CompetitionDistance</th>\n",
              "      <th>CompetitionOpenSinceMonth</th>\n",
              "      <th>CompetitionOpenSinceYear</th>\n",
              "      <th>Promo2</th>\n",
              "      <th>Promo2SinceWeek</th>\n",
              "      <th>Promo2SinceYear</th>\n",
              "      <th>PromoInterval</th>\n",
              "    </tr>\n",
              "  </thead>\n",
              "  <tbody>\n",
              "    <tr>\n",
              "      <th>0</th>\n",
              "      <td>1</td>\n",
              "      <td>c</td>\n",
              "      <td>a</td>\n",
              "      <td>1270.0</td>\n",
              "      <td>9.0</td>\n",
              "      <td>2008.0</td>\n",
              "      <td>0</td>\n",
              "      <td>NaN</td>\n",
              "      <td>NaN</td>\n",
              "      <td>NaN</td>\n",
              "    </tr>\n",
              "    <tr>\n",
              "      <th>1</th>\n",
              "      <td>2</td>\n",
              "      <td>a</td>\n",
              "      <td>a</td>\n",
              "      <td>570.0</td>\n",
              "      <td>11.0</td>\n",
              "      <td>2007.0</td>\n",
              "      <td>1</td>\n",
              "      <td>13.0</td>\n",
              "      <td>2010.0</td>\n",
              "      <td>Jan,Apr,Jul,Oct</td>\n",
              "    </tr>\n",
              "    <tr>\n",
              "      <th>2</th>\n",
              "      <td>3</td>\n",
              "      <td>a</td>\n",
              "      <td>a</td>\n",
              "      <td>14130.0</td>\n",
              "      <td>12.0</td>\n",
              "      <td>2006.0</td>\n",
              "      <td>1</td>\n",
              "      <td>14.0</td>\n",
              "      <td>2011.0</td>\n",
              "      <td>Jan,Apr,Jul,Oct</td>\n",
              "    </tr>\n",
              "    <tr>\n",
              "      <th>3</th>\n",
              "      <td>4</td>\n",
              "      <td>c</td>\n",
              "      <td>c</td>\n",
              "      <td>620.0</td>\n",
              "      <td>9.0</td>\n",
              "      <td>2009.0</td>\n",
              "      <td>0</td>\n",
              "      <td>NaN</td>\n",
              "      <td>NaN</td>\n",
              "      <td>NaN</td>\n",
              "    </tr>\n",
              "    <tr>\n",
              "      <th>4</th>\n",
              "      <td>5</td>\n",
              "      <td>a</td>\n",
              "      <td>a</td>\n",
              "      <td>29910.0</td>\n",
              "      <td>4.0</td>\n",
              "      <td>2015.0</td>\n",
              "      <td>0</td>\n",
              "      <td>NaN</td>\n",
              "      <td>NaN</td>\n",
              "      <td>NaN</td>\n",
              "    </tr>\n",
              "  </tbody>\n",
              "</table>\n",
              "</div>\n",
              "      <button class=\"colab-df-convert\" onclick=\"convertToInteractive('df-8ee694b1-9cad-4308-be8d-49d1c2bdd5d2')\"\n",
              "              title=\"Convert this dataframe to an interactive table.\"\n",
              "              style=\"display:none;\">\n",
              "        \n",
              "  <svg xmlns=\"http://www.w3.org/2000/svg\" height=\"24px\"viewBox=\"0 0 24 24\"\n",
              "       width=\"24px\">\n",
              "    <path d=\"M0 0h24v24H0V0z\" fill=\"none\"/>\n",
              "    <path d=\"M18.56 5.44l.94 2.06.94-2.06 2.06-.94-2.06-.94-.94-2.06-.94 2.06-2.06.94zm-11 1L8.5 8.5l.94-2.06 2.06-.94-2.06-.94L8.5 2.5l-.94 2.06-2.06.94zm10 10l.94 2.06.94-2.06 2.06-.94-2.06-.94-.94-2.06-.94 2.06-2.06.94z\"/><path d=\"M17.41 7.96l-1.37-1.37c-.4-.4-.92-.59-1.43-.59-.52 0-1.04.2-1.43.59L10.3 9.45l-7.72 7.72c-.78.78-.78 2.05 0 2.83L4 21.41c.39.39.9.59 1.41.59.51 0 1.02-.2 1.41-.59l7.78-7.78 2.81-2.81c.8-.78.8-2.07 0-2.86zM5.41 20L4 18.59l7.72-7.72 1.47 1.35L5.41 20z\"/>\n",
              "  </svg>\n",
              "      </button>\n",
              "      \n",
              "  <style>\n",
              "    .colab-df-container {\n",
              "      display:flex;\n",
              "      flex-wrap:wrap;\n",
              "      gap: 12px;\n",
              "    }\n",
              "\n",
              "    .colab-df-convert {\n",
              "      background-color: #E8F0FE;\n",
              "      border: none;\n",
              "      border-radius: 50%;\n",
              "      cursor: pointer;\n",
              "      display: none;\n",
              "      fill: #1967D2;\n",
              "      height: 32px;\n",
              "      padding: 0 0 0 0;\n",
              "      width: 32px;\n",
              "    }\n",
              "\n",
              "    .colab-df-convert:hover {\n",
              "      background-color: #E2EBFA;\n",
              "      box-shadow: 0px 1px 2px rgba(60, 64, 67, 0.3), 0px 1px 3px 1px rgba(60, 64, 67, 0.15);\n",
              "      fill: #174EA6;\n",
              "    }\n",
              "\n",
              "    [theme=dark] .colab-df-convert {\n",
              "      background-color: #3B4455;\n",
              "      fill: #D2E3FC;\n",
              "    }\n",
              "\n",
              "    [theme=dark] .colab-df-convert:hover {\n",
              "      background-color: #434B5C;\n",
              "      box-shadow: 0px 1px 3px 1px rgba(0, 0, 0, 0.15);\n",
              "      filter: drop-shadow(0px 1px 2px rgba(0, 0, 0, 0.3));\n",
              "      fill: #FFFFFF;\n",
              "    }\n",
              "  </style>\n",
              "\n",
              "      <script>\n",
              "        const buttonEl =\n",
              "          document.querySelector('#df-8ee694b1-9cad-4308-be8d-49d1c2bdd5d2 button.colab-df-convert');\n",
              "        buttonEl.style.display =\n",
              "          google.colab.kernel.accessAllowed ? 'block' : 'none';\n",
              "\n",
              "        async function convertToInteractive(key) {\n",
              "          const element = document.querySelector('#df-8ee694b1-9cad-4308-be8d-49d1c2bdd5d2');\n",
              "          const dataTable =\n",
              "            await google.colab.kernel.invokeFunction('convertToInteractive',\n",
              "                                                     [key], {});\n",
              "          if (!dataTable) return;\n",
              "\n",
              "          const docLinkHtml = 'Like what you see? Visit the ' +\n",
              "            '<a target=\"_blank\" href=https://colab.research.google.com/notebooks/data_table.ipynb>data table notebook</a>'\n",
              "            + ' to learn more about interactive tables.';\n",
              "          element.innerHTML = '';\n",
              "          dataTable['output_type'] = 'display_data';\n",
              "          await google.colab.output.renderOutput(dataTable, element);\n",
              "          const docLink = document.createElement('div');\n",
              "          docLink.innerHTML = docLinkHtml;\n",
              "          element.appendChild(docLink);\n",
              "        }\n",
              "      </script>\n",
              "    </div>\n",
              "  </div>\n",
              "  "
            ]
          },
          "metadata": {},
          "execution_count": 93
        }
      ],
      "source": [
        "print('Number of records and features', df2.shape)\n",
        "df2.head()"
      ]
    },
    {
      "cell_type": "code",
      "execution_count": 94,
      "metadata": {
        "colab": {
          "base_uri": "https://localhost:8080/"
        },
        "id": "ug0DhjLcXGK1",
        "outputId": "ef7b0e21-0e5b-4b37-992f-2611ed983a34"
      },
      "outputs": [
        {
          "output_type": "stream",
          "name": "stdout",
          "text": [
            "<class 'pandas.core.frame.DataFrame'>\n",
            "DatetimeIndex: 1017209 entries, 2015-07-31 to 2013-01-01\n",
            "Data columns (total 8 columns):\n",
            " #   Column         Non-Null Count    Dtype \n",
            "---  ------         --------------    ----- \n",
            " 0   Store          1017209 non-null  int64 \n",
            " 1   DayOfWeek      1017209 non-null  int64 \n",
            " 2   Sales          1017209 non-null  int64 \n",
            " 3   Customers      1017209 non-null  int64 \n",
            " 4   Open           1017209 non-null  int64 \n",
            " 5   Promo          1017209 non-null  int64 \n",
            " 6   StateHoliday   1017209 non-null  object\n",
            " 7   SchoolHoliday  1017209 non-null  int64 \n",
            "dtypes: int64(7), object(1)\n",
            "memory usage: 69.8+ MB\n"
          ]
        }
      ],
      "source": [
        "# Summary of Dataset \n",
        "df1.info()"
      ]
    },
    {
      "cell_type": "code",
      "execution_count": 95,
      "metadata": {
        "colab": {
          "base_uri": "https://localhost:8080/"
        },
        "id": "Io7ZsQHGXZ1k",
        "outputId": "f400c772-d6f8-440e-8ace-3118040c3a7d"
      },
      "outputs": [
        {
          "output_type": "stream",
          "name": "stdout",
          "text": [
            "<class 'pandas.core.frame.DataFrame'>\n",
            "RangeIndex: 1115 entries, 0 to 1114\n",
            "Data columns (total 10 columns):\n",
            " #   Column                     Non-Null Count  Dtype  \n",
            "---  ------                     --------------  -----  \n",
            " 0   Store                      1115 non-null   int64  \n",
            " 1   StoreType                  1115 non-null   object \n",
            " 2   Assortment                 1115 non-null   object \n",
            " 3   CompetitionDistance        1112 non-null   float64\n",
            " 4   CompetitionOpenSinceMonth  761 non-null    float64\n",
            " 5   CompetitionOpenSinceYear   761 non-null    float64\n",
            " 6   Promo2                     1115 non-null   int64  \n",
            " 7   Promo2SinceWeek            571 non-null    float64\n",
            " 8   Promo2SinceYear            571 non-null    float64\n",
            " 9   PromoInterval              571 non-null    object \n",
            "dtypes: float64(5), int64(2), object(3)\n",
            "memory usage: 87.2+ KB\n"
          ]
        }
      ],
      "source": [
        "# Summary of Dataset \n",
        "df2.info()"
      ]
    },
    {
      "cell_type": "code",
      "execution_count": 96,
      "metadata": {
        "colab": {
          "base_uri": "https://localhost:8080/"
        },
        "id": "1lArPJdhXi56",
        "outputId": "39cb1742-bd18-4d90-d295-9cfd7b55381e"
      },
      "outputs": [
        {
          "output_type": "stream",
          "name": "stdout",
          "text": [
            "df1 \n",
            " Store            0\n",
            "DayOfWeek        0\n",
            "Sales            0\n",
            "Customers        0\n",
            "Open             0\n",
            "Promo            0\n",
            "StateHoliday     0\n",
            "SchoolHoliday    0\n",
            "dtype: int64 \n",
            "\n",
            "\n",
            "df2 \n",
            " Store                          0\n",
            "StoreType                      0\n",
            "Assortment                     0\n",
            "CompetitionDistance            3\n",
            "CompetitionOpenSinceMonth    354\n",
            "CompetitionOpenSinceYear     354\n",
            "Promo2                         0\n",
            "Promo2SinceWeek              544\n",
            "Promo2SinceYear              544\n",
            "PromoInterval                544\n",
            "dtype: int64\n"
          ]
        }
      ],
      "source": [
        "# Analyzing Null Values for both the Datasets\n",
        "print('df1 \\n',df1.isnull().sum(),'\\n\\n')\n",
        "print('df2 \\n',df2.isnull().sum())"
      ]
    },
    {
      "cell_type": "code",
      "execution_count": 97,
      "metadata": {
        "id": "Hs5KFMWhYKKt"
      },
      "outputs": [],
      "source": [
        "# Handling Missing Values\n",
        "df2['Promo2SinceWeek'] = df2['Promo2SinceWeek'].fillna(0)\n",
        "df2['Promo2SinceYear'] = df2['Promo2SinceYear'].fillna(0)\n",
        "df2['PromoInterval'] = df2['PromoInterval'].fillna(0)\n",
        "df2['CompetitionDistance'] = df2['CompetitionDistance'].fillna(df2['CompetitionDistance'].median())\n",
        "df2['CompetitionOpenSinceMonth'] = df2['CompetitionOpenSinceMonth'].fillna(df2['CompetitionOpenSinceMonth'].mode().iloc[0])\n",
        "df2['CompetitionOpenSinceYear'] = df2['CompetitionOpenSinceYear'].fillna(df2['CompetitionOpenSinceYear'].mode().iloc[0])"
      ]
    },
    {
      "cell_type": "code",
      "execution_count": 98,
      "metadata": {
        "colab": {
          "base_uri": "https://localhost:8080/"
        },
        "id": "jGlurrewNnYS",
        "outputId": "06105308-5bd5-48e8-c209-e60f82d445a9"
      },
      "outputs": [
        {
          "output_type": "stream",
          "name": "stdout",
          "text": [
            "Store                        0\n",
            "StoreType                    0\n",
            "Assortment                   0\n",
            "CompetitionDistance          0\n",
            "CompetitionOpenSinceMonth    0\n",
            "CompetitionOpenSinceYear     0\n",
            "Promo2                       0\n",
            "Promo2SinceWeek              0\n",
            "Promo2SinceYear              0\n",
            "PromoInterval                0\n",
            "dtype: int64\n"
          ]
        }
      ],
      "source": [
        "print(df2.isnull().sum())"
      ]
    },
    {
      "cell_type": "code",
      "execution_count": 99,
      "metadata": {
        "colab": {
          "base_uri": "https://localhost:8080/"
        },
        "id": "W9dc2A_EakVx",
        "outputId": "4c0a66b3-f4f4-4805-a2af-a43e66cd93e9"
      },
      "outputs": [
        {
          "output_type": "stream",
          "name": "stderr",
          "text": [
            "/usr/local/lib/python3.7/dist-packages/ipykernel_launcher.py:5: FutureWarning: weekofyear and week have been deprecated, please use DatetimeIndex.isocalendar().week instead, which returns a Series.  To exactly reproduce the behavior of week and weekofyear and return an Index, you may call pd.Int64Index(idx.isocalendar().week)\n",
            "  \"\"\"\n"
          ]
        }
      ],
      "source": [
        "# Extracting year, month, day and week of year from \"Date\"\n",
        "df1['Year'] = df1.index.year\n",
        "df1['Month'] = df1.index.month\n",
        "df1['Day'] = df1.index.day\n",
        "df1['WeekOfYear'] = df1.index.weekofyear\n",
        "df1 = df1.reset_index()"
      ]
    },
    {
      "cell_type": "code",
      "execution_count": 100,
      "metadata": {
        "colab": {
          "base_uri": "https://localhost:8080/"
        },
        "id": "iL1aEq4qTrG6",
        "outputId": "72d70bf6-9b7f-4d55-e632-1a67e348d142"
      },
      "outputs": [
        {
          "output_type": "stream",
          "name": "stdout",
          "text": [
            "0\n",
            "0\n"
          ]
        }
      ],
      "source": [
        "# Checking for duplicates \n",
        "print(df1.duplicated().sum())\n",
        "print(df2.duplicated().sum())"
      ]
    },
    {
      "cell_type": "markdown",
      "metadata": {
        "id": "7Tk2kTmfivIw"
      },
      "source": [
        "## <b> Merging both the Datasets </b>"
      ]
    },
    {
      "cell_type": "code",
      "execution_count": 101,
      "metadata": {
        "id": "9nw2fFaUbALh"
      },
      "outputs": [],
      "source": [
        "# Joining Both the Dataframes \n",
        "df = pd.merge(df1, df2, how='left', on='Store')"
      ]
    },
    {
      "cell_type": "markdown",
      "metadata": {
        "id": "_7-iLHL4i1IQ"
      },
      "source": [
        "## <b> Understanding the Dataset </b>"
      ]
    },
    {
      "cell_type": "code",
      "execution_count": 102,
      "metadata": {
        "colab": {
          "base_uri": "https://localhost:8080/",
          "height": 386
        },
        "id": "EUHxNVw_rMwZ",
        "outputId": "5a0e656b-4691-464a-88f1-a1c92277793e"
      },
      "outputs": [
        {
          "output_type": "execute_result",
          "data": {
            "text/plain": [
              "        Date  Store  DayOfWeek  Sales  Customers  Open  Promo StateHoliday  \\\n",
              "0 2015-07-31      1          5   5263        555     1      1            0   \n",
              "1 2015-07-31      2          5   6064        625     1      1            0   \n",
              "2 2015-07-31      3          5   8314        821     1      1            0   \n",
              "3 2015-07-31      4          5  13995       1498     1      1            0   \n",
              "4 2015-07-31      5          5   4822        559     1      1            0   \n",
              "\n",
              "   SchoolHoliday  Year  ...  WeekOfYear  StoreType  Assortment  \\\n",
              "0              1  2015  ...          31          c           a   \n",
              "1              1  2015  ...          31          a           a   \n",
              "2              1  2015  ...          31          a           a   \n",
              "3              1  2015  ...          31          c           c   \n",
              "4              1  2015  ...          31          a           a   \n",
              "\n",
              "  CompetitionDistance CompetitionOpenSinceMonth  CompetitionOpenSinceYear  \\\n",
              "0              1270.0                       9.0                    2008.0   \n",
              "1               570.0                      11.0                    2007.0   \n",
              "2             14130.0                      12.0                    2006.0   \n",
              "3               620.0                       9.0                    2009.0   \n",
              "4             29910.0                       4.0                    2015.0   \n",
              "\n",
              "   Promo2  Promo2SinceWeek  Promo2SinceYear    PromoInterval  \n",
              "0       0              0.0              0.0                0  \n",
              "1       1             13.0           2010.0  Jan,Apr,Jul,Oct  \n",
              "2       1             14.0           2011.0  Jan,Apr,Jul,Oct  \n",
              "3       0              0.0              0.0                0  \n",
              "4       0              0.0              0.0                0  \n",
              "\n",
              "[5 rows x 22 columns]"
            ],
            "text/html": [
              "\n",
              "  <div id=\"df-ac99c8bc-d97d-4c27-ae69-d691add86f24\">\n",
              "    <div class=\"colab-df-container\">\n",
              "      <div>\n",
              "<style scoped>\n",
              "    .dataframe tbody tr th:only-of-type {\n",
              "        vertical-align: middle;\n",
              "    }\n",
              "\n",
              "    .dataframe tbody tr th {\n",
              "        vertical-align: top;\n",
              "    }\n",
              "\n",
              "    .dataframe thead th {\n",
              "        text-align: right;\n",
              "    }\n",
              "</style>\n",
              "<table border=\"1\" class=\"dataframe\">\n",
              "  <thead>\n",
              "    <tr style=\"text-align: right;\">\n",
              "      <th></th>\n",
              "      <th>Date</th>\n",
              "      <th>Store</th>\n",
              "      <th>DayOfWeek</th>\n",
              "      <th>Sales</th>\n",
              "      <th>Customers</th>\n",
              "      <th>Open</th>\n",
              "      <th>Promo</th>\n",
              "      <th>StateHoliday</th>\n",
              "      <th>SchoolHoliday</th>\n",
              "      <th>Year</th>\n",
              "      <th>...</th>\n",
              "      <th>WeekOfYear</th>\n",
              "      <th>StoreType</th>\n",
              "      <th>Assortment</th>\n",
              "      <th>CompetitionDistance</th>\n",
              "      <th>CompetitionOpenSinceMonth</th>\n",
              "      <th>CompetitionOpenSinceYear</th>\n",
              "      <th>Promo2</th>\n",
              "      <th>Promo2SinceWeek</th>\n",
              "      <th>Promo2SinceYear</th>\n",
              "      <th>PromoInterval</th>\n",
              "    </tr>\n",
              "  </thead>\n",
              "  <tbody>\n",
              "    <tr>\n",
              "      <th>0</th>\n",
              "      <td>2015-07-31</td>\n",
              "      <td>1</td>\n",
              "      <td>5</td>\n",
              "      <td>5263</td>\n",
              "      <td>555</td>\n",
              "      <td>1</td>\n",
              "      <td>1</td>\n",
              "      <td>0</td>\n",
              "      <td>1</td>\n",
              "      <td>2015</td>\n",
              "      <td>...</td>\n",
              "      <td>31</td>\n",
              "      <td>c</td>\n",
              "      <td>a</td>\n",
              "      <td>1270.0</td>\n",
              "      <td>9.0</td>\n",
              "      <td>2008.0</td>\n",
              "      <td>0</td>\n",
              "      <td>0.0</td>\n",
              "      <td>0.0</td>\n",
              "      <td>0</td>\n",
              "    </tr>\n",
              "    <tr>\n",
              "      <th>1</th>\n",
              "      <td>2015-07-31</td>\n",
              "      <td>2</td>\n",
              "      <td>5</td>\n",
              "      <td>6064</td>\n",
              "      <td>625</td>\n",
              "      <td>1</td>\n",
              "      <td>1</td>\n",
              "      <td>0</td>\n",
              "      <td>1</td>\n",
              "      <td>2015</td>\n",
              "      <td>...</td>\n",
              "      <td>31</td>\n",
              "      <td>a</td>\n",
              "      <td>a</td>\n",
              "      <td>570.0</td>\n",
              "      <td>11.0</td>\n",
              "      <td>2007.0</td>\n",
              "      <td>1</td>\n",
              "      <td>13.0</td>\n",
              "      <td>2010.0</td>\n",
              "      <td>Jan,Apr,Jul,Oct</td>\n",
              "    </tr>\n",
              "    <tr>\n",
              "      <th>2</th>\n",
              "      <td>2015-07-31</td>\n",
              "      <td>3</td>\n",
              "      <td>5</td>\n",
              "      <td>8314</td>\n",
              "      <td>821</td>\n",
              "      <td>1</td>\n",
              "      <td>1</td>\n",
              "      <td>0</td>\n",
              "      <td>1</td>\n",
              "      <td>2015</td>\n",
              "      <td>...</td>\n",
              "      <td>31</td>\n",
              "      <td>a</td>\n",
              "      <td>a</td>\n",
              "      <td>14130.0</td>\n",
              "      <td>12.0</td>\n",
              "      <td>2006.0</td>\n",
              "      <td>1</td>\n",
              "      <td>14.0</td>\n",
              "      <td>2011.0</td>\n",
              "      <td>Jan,Apr,Jul,Oct</td>\n",
              "    </tr>\n",
              "    <tr>\n",
              "      <th>3</th>\n",
              "      <td>2015-07-31</td>\n",
              "      <td>4</td>\n",
              "      <td>5</td>\n",
              "      <td>13995</td>\n",
              "      <td>1498</td>\n",
              "      <td>1</td>\n",
              "      <td>1</td>\n",
              "      <td>0</td>\n",
              "      <td>1</td>\n",
              "      <td>2015</td>\n",
              "      <td>...</td>\n",
              "      <td>31</td>\n",
              "      <td>c</td>\n",
              "      <td>c</td>\n",
              "      <td>620.0</td>\n",
              "      <td>9.0</td>\n",
              "      <td>2009.0</td>\n",
              "      <td>0</td>\n",
              "      <td>0.0</td>\n",
              "      <td>0.0</td>\n",
              "      <td>0</td>\n",
              "    </tr>\n",
              "    <tr>\n",
              "      <th>4</th>\n",
              "      <td>2015-07-31</td>\n",
              "      <td>5</td>\n",
              "      <td>5</td>\n",
              "      <td>4822</td>\n",
              "      <td>559</td>\n",
              "      <td>1</td>\n",
              "      <td>1</td>\n",
              "      <td>0</td>\n",
              "      <td>1</td>\n",
              "      <td>2015</td>\n",
              "      <td>...</td>\n",
              "      <td>31</td>\n",
              "      <td>a</td>\n",
              "      <td>a</td>\n",
              "      <td>29910.0</td>\n",
              "      <td>4.0</td>\n",
              "      <td>2015.0</td>\n",
              "      <td>0</td>\n",
              "      <td>0.0</td>\n",
              "      <td>0.0</td>\n",
              "      <td>0</td>\n",
              "    </tr>\n",
              "  </tbody>\n",
              "</table>\n",
              "<p>5 rows × 22 columns</p>\n",
              "</div>\n",
              "      <button class=\"colab-df-convert\" onclick=\"convertToInteractive('df-ac99c8bc-d97d-4c27-ae69-d691add86f24')\"\n",
              "              title=\"Convert this dataframe to an interactive table.\"\n",
              "              style=\"display:none;\">\n",
              "        \n",
              "  <svg xmlns=\"http://www.w3.org/2000/svg\" height=\"24px\"viewBox=\"0 0 24 24\"\n",
              "       width=\"24px\">\n",
              "    <path d=\"M0 0h24v24H0V0z\" fill=\"none\"/>\n",
              "    <path d=\"M18.56 5.44l.94 2.06.94-2.06 2.06-.94-2.06-.94-.94-2.06-.94 2.06-2.06.94zm-11 1L8.5 8.5l.94-2.06 2.06-.94-2.06-.94L8.5 2.5l-.94 2.06-2.06.94zm10 10l.94 2.06.94-2.06 2.06-.94-2.06-.94-.94-2.06-.94 2.06-2.06.94z\"/><path d=\"M17.41 7.96l-1.37-1.37c-.4-.4-.92-.59-1.43-.59-.52 0-1.04.2-1.43.59L10.3 9.45l-7.72 7.72c-.78.78-.78 2.05 0 2.83L4 21.41c.39.39.9.59 1.41.59.51 0 1.02-.2 1.41-.59l7.78-7.78 2.81-2.81c.8-.78.8-2.07 0-2.86zM5.41 20L4 18.59l7.72-7.72 1.47 1.35L5.41 20z\"/>\n",
              "  </svg>\n",
              "      </button>\n",
              "      \n",
              "  <style>\n",
              "    .colab-df-container {\n",
              "      display:flex;\n",
              "      flex-wrap:wrap;\n",
              "      gap: 12px;\n",
              "    }\n",
              "\n",
              "    .colab-df-convert {\n",
              "      background-color: #E8F0FE;\n",
              "      border: none;\n",
              "      border-radius: 50%;\n",
              "      cursor: pointer;\n",
              "      display: none;\n",
              "      fill: #1967D2;\n",
              "      height: 32px;\n",
              "      padding: 0 0 0 0;\n",
              "      width: 32px;\n",
              "    }\n",
              "\n",
              "    .colab-df-convert:hover {\n",
              "      background-color: #E2EBFA;\n",
              "      box-shadow: 0px 1px 2px rgba(60, 64, 67, 0.3), 0px 1px 3px 1px rgba(60, 64, 67, 0.15);\n",
              "      fill: #174EA6;\n",
              "    }\n",
              "\n",
              "    [theme=dark] .colab-df-convert {\n",
              "      background-color: #3B4455;\n",
              "      fill: #D2E3FC;\n",
              "    }\n",
              "\n",
              "    [theme=dark] .colab-df-convert:hover {\n",
              "      background-color: #434B5C;\n",
              "      box-shadow: 0px 1px 3px 1px rgba(0, 0, 0, 0.15);\n",
              "      filter: drop-shadow(0px 1px 2px rgba(0, 0, 0, 0.3));\n",
              "      fill: #FFFFFF;\n",
              "    }\n",
              "  </style>\n",
              "\n",
              "      <script>\n",
              "        const buttonEl =\n",
              "          document.querySelector('#df-ac99c8bc-d97d-4c27-ae69-d691add86f24 button.colab-df-convert');\n",
              "        buttonEl.style.display =\n",
              "          google.colab.kernel.accessAllowed ? 'block' : 'none';\n",
              "\n",
              "        async function convertToInteractive(key) {\n",
              "          const element = document.querySelector('#df-ac99c8bc-d97d-4c27-ae69-d691add86f24');\n",
              "          const dataTable =\n",
              "            await google.colab.kernel.invokeFunction('convertToInteractive',\n",
              "                                                     [key], {});\n",
              "          if (!dataTable) return;\n",
              "\n",
              "          const docLinkHtml = 'Like what you see? Visit the ' +\n",
              "            '<a target=\"_blank\" href=https://colab.research.google.com/notebooks/data_table.ipynb>data table notebook</a>'\n",
              "            + ' to learn more about interactive tables.';\n",
              "          element.innerHTML = '';\n",
              "          dataTable['output_type'] = 'display_data';\n",
              "          await google.colab.output.renderOutput(dataTable, element);\n",
              "          const docLink = document.createElement('div');\n",
              "          docLink.innerHTML = docLinkHtml;\n",
              "          element.appendChild(docLink);\n",
              "        }\n",
              "      </script>\n",
              "    </div>\n",
              "  </div>\n",
              "  "
            ]
          },
          "metadata": {},
          "execution_count": 102
        }
      ],
      "source": [
        "df.head()"
      ]
    },
    {
      "cell_type": "code",
      "execution_count": 103,
      "metadata": {
        "colab": {
          "base_uri": "https://localhost:8080/",
          "height": 386
        },
        "id": "mvqds-aEgLuc",
        "outputId": "7778e117-0366-4c58-c5db-ab83a5287b24"
      },
      "outputs": [
        {
          "output_type": "execute_result",
          "data": {
            "text/plain": [
              "              Date  Store  DayOfWeek  Sales  Customers  Open  Promo  \\\n",
              "508784  2014-04-01     15          2   7271        677     1      1   \n",
              "1015149 2013-01-02    170          3   4622        556     1      0   \n",
              "697714  2013-10-14    510          1   8251        924     1      0   \n",
              "39131   2015-06-26    107          5   6584        922     1      0   \n",
              "650435  2013-11-25     61          1   4372        576     1      0   \n",
              "\n",
              "        StateHoliday  SchoolHoliday  Year  ...  WeekOfYear  StoreType  \\\n",
              "508784             0              0  2014  ...          14          d   \n",
              "1015149            0              1  2013  ...           1          a   \n",
              "697714             0              0  2013  ...          42          a   \n",
              "39131              0              0  2015  ...          26          a   \n",
              "650435             0              0  2013  ...          48          a   \n",
              "\n",
              "         Assortment CompetitionDistance CompetitionOpenSinceMonth  \\\n",
              "508784            c              4110.0                       3.0   \n",
              "1015149           a              1070.0                       5.0   \n",
              "697714            c              8260.0                       9.0   \n",
              "39131             a              1930.0                       9.0   \n",
              "650435            c               350.0                      12.0   \n",
              "\n",
              "         CompetitionOpenSinceYear  Promo2  Promo2SinceWeek  Promo2SinceYear  \\\n",
              "508784                     2010.0       1             14.0           2011.0   \n",
              "1015149                    2015.0       1             14.0           2011.0   \n",
              "697714                     2013.0       0              0.0              0.0   \n",
              "39131                      2009.0       0              0.0              0.0   \n",
              "650435                     2007.0       1              1.0           2012.0   \n",
              "\n",
              "           PromoInterval  \n",
              "508784   Jan,Apr,Jul,Oct  \n",
              "1015149  Jan,Apr,Jul,Oct  \n",
              "697714                 0  \n",
              "39131                  0  \n",
              "650435   Jan,Apr,Jul,Oct  \n",
              "\n",
              "[5 rows x 22 columns]"
            ],
            "text/html": [
              "\n",
              "  <div id=\"df-d58e7aac-c44a-46e3-918b-8328a213529e\">\n",
              "    <div class=\"colab-df-container\">\n",
              "      <div>\n",
              "<style scoped>\n",
              "    .dataframe tbody tr th:only-of-type {\n",
              "        vertical-align: middle;\n",
              "    }\n",
              "\n",
              "    .dataframe tbody tr th {\n",
              "        vertical-align: top;\n",
              "    }\n",
              "\n",
              "    .dataframe thead th {\n",
              "        text-align: right;\n",
              "    }\n",
              "</style>\n",
              "<table border=\"1\" class=\"dataframe\">\n",
              "  <thead>\n",
              "    <tr style=\"text-align: right;\">\n",
              "      <th></th>\n",
              "      <th>Date</th>\n",
              "      <th>Store</th>\n",
              "      <th>DayOfWeek</th>\n",
              "      <th>Sales</th>\n",
              "      <th>Customers</th>\n",
              "      <th>Open</th>\n",
              "      <th>Promo</th>\n",
              "      <th>StateHoliday</th>\n",
              "      <th>SchoolHoliday</th>\n",
              "      <th>Year</th>\n",
              "      <th>...</th>\n",
              "      <th>WeekOfYear</th>\n",
              "      <th>StoreType</th>\n",
              "      <th>Assortment</th>\n",
              "      <th>CompetitionDistance</th>\n",
              "      <th>CompetitionOpenSinceMonth</th>\n",
              "      <th>CompetitionOpenSinceYear</th>\n",
              "      <th>Promo2</th>\n",
              "      <th>Promo2SinceWeek</th>\n",
              "      <th>Promo2SinceYear</th>\n",
              "      <th>PromoInterval</th>\n",
              "    </tr>\n",
              "  </thead>\n",
              "  <tbody>\n",
              "    <tr>\n",
              "      <th>508784</th>\n",
              "      <td>2014-04-01</td>\n",
              "      <td>15</td>\n",
              "      <td>2</td>\n",
              "      <td>7271</td>\n",
              "      <td>677</td>\n",
              "      <td>1</td>\n",
              "      <td>1</td>\n",
              "      <td>0</td>\n",
              "      <td>0</td>\n",
              "      <td>2014</td>\n",
              "      <td>...</td>\n",
              "      <td>14</td>\n",
              "      <td>d</td>\n",
              "      <td>c</td>\n",
              "      <td>4110.0</td>\n",
              "      <td>3.0</td>\n",
              "      <td>2010.0</td>\n",
              "      <td>1</td>\n",
              "      <td>14.0</td>\n",
              "      <td>2011.0</td>\n",
              "      <td>Jan,Apr,Jul,Oct</td>\n",
              "    </tr>\n",
              "    <tr>\n",
              "      <th>1015149</th>\n",
              "      <td>2013-01-02</td>\n",
              "      <td>170</td>\n",
              "      <td>3</td>\n",
              "      <td>4622</td>\n",
              "      <td>556</td>\n",
              "      <td>1</td>\n",
              "      <td>0</td>\n",
              "      <td>0</td>\n",
              "      <td>1</td>\n",
              "      <td>2013</td>\n",
              "      <td>...</td>\n",
              "      <td>1</td>\n",
              "      <td>a</td>\n",
              "      <td>a</td>\n",
              "      <td>1070.0</td>\n",
              "      <td>5.0</td>\n",
              "      <td>2015.0</td>\n",
              "      <td>1</td>\n",
              "      <td>14.0</td>\n",
              "      <td>2011.0</td>\n",
              "      <td>Jan,Apr,Jul,Oct</td>\n",
              "    </tr>\n",
              "    <tr>\n",
              "      <th>697714</th>\n",
              "      <td>2013-10-14</td>\n",
              "      <td>510</td>\n",
              "      <td>1</td>\n",
              "      <td>8251</td>\n",
              "      <td>924</td>\n",
              "      <td>1</td>\n",
              "      <td>0</td>\n",
              "      <td>0</td>\n",
              "      <td>0</td>\n",
              "      <td>2013</td>\n",
              "      <td>...</td>\n",
              "      <td>42</td>\n",
              "      <td>a</td>\n",
              "      <td>c</td>\n",
              "      <td>8260.0</td>\n",
              "      <td>9.0</td>\n",
              "      <td>2013.0</td>\n",
              "      <td>0</td>\n",
              "      <td>0.0</td>\n",
              "      <td>0.0</td>\n",
              "      <td>0</td>\n",
              "    </tr>\n",
              "    <tr>\n",
              "      <th>39131</th>\n",
              "      <td>2015-06-26</td>\n",
              "      <td>107</td>\n",
              "      <td>5</td>\n",
              "      <td>6584</td>\n",
              "      <td>922</td>\n",
              "      <td>1</td>\n",
              "      <td>0</td>\n",
              "      <td>0</td>\n",
              "      <td>0</td>\n",
              "      <td>2015</td>\n",
              "      <td>...</td>\n",
              "      <td>26</td>\n",
              "      <td>a</td>\n",
              "      <td>a</td>\n",
              "      <td>1930.0</td>\n",
              "      <td>9.0</td>\n",
              "      <td>2009.0</td>\n",
              "      <td>0</td>\n",
              "      <td>0.0</td>\n",
              "      <td>0.0</td>\n",
              "      <td>0</td>\n",
              "    </tr>\n",
              "    <tr>\n",
              "      <th>650435</th>\n",
              "      <td>2013-11-25</td>\n",
              "      <td>61</td>\n",
              "      <td>1</td>\n",
              "      <td>4372</td>\n",
              "      <td>576</td>\n",
              "      <td>1</td>\n",
              "      <td>0</td>\n",
              "      <td>0</td>\n",
              "      <td>0</td>\n",
              "      <td>2013</td>\n",
              "      <td>...</td>\n",
              "      <td>48</td>\n",
              "      <td>a</td>\n",
              "      <td>c</td>\n",
              "      <td>350.0</td>\n",
              "      <td>12.0</td>\n",
              "      <td>2007.0</td>\n",
              "      <td>1</td>\n",
              "      <td>1.0</td>\n",
              "      <td>2012.0</td>\n",
              "      <td>Jan,Apr,Jul,Oct</td>\n",
              "    </tr>\n",
              "  </tbody>\n",
              "</table>\n",
              "<p>5 rows × 22 columns</p>\n",
              "</div>\n",
              "      <button class=\"colab-df-convert\" onclick=\"convertToInteractive('df-d58e7aac-c44a-46e3-918b-8328a213529e')\"\n",
              "              title=\"Convert this dataframe to an interactive table.\"\n",
              "              style=\"display:none;\">\n",
              "        \n",
              "  <svg xmlns=\"http://www.w3.org/2000/svg\" height=\"24px\"viewBox=\"0 0 24 24\"\n",
              "       width=\"24px\">\n",
              "    <path d=\"M0 0h24v24H0V0z\" fill=\"none\"/>\n",
              "    <path d=\"M18.56 5.44l.94 2.06.94-2.06 2.06-.94-2.06-.94-.94-2.06-.94 2.06-2.06.94zm-11 1L8.5 8.5l.94-2.06 2.06-.94-2.06-.94L8.5 2.5l-.94 2.06-2.06.94zm10 10l.94 2.06.94-2.06 2.06-.94-2.06-.94-.94-2.06-.94 2.06-2.06.94z\"/><path d=\"M17.41 7.96l-1.37-1.37c-.4-.4-.92-.59-1.43-.59-.52 0-1.04.2-1.43.59L10.3 9.45l-7.72 7.72c-.78.78-.78 2.05 0 2.83L4 21.41c.39.39.9.59 1.41.59.51 0 1.02-.2 1.41-.59l7.78-7.78 2.81-2.81c.8-.78.8-2.07 0-2.86zM5.41 20L4 18.59l7.72-7.72 1.47 1.35L5.41 20z\"/>\n",
              "  </svg>\n",
              "      </button>\n",
              "      \n",
              "  <style>\n",
              "    .colab-df-container {\n",
              "      display:flex;\n",
              "      flex-wrap:wrap;\n",
              "      gap: 12px;\n",
              "    }\n",
              "\n",
              "    .colab-df-convert {\n",
              "      background-color: #E8F0FE;\n",
              "      border: none;\n",
              "      border-radius: 50%;\n",
              "      cursor: pointer;\n",
              "      display: none;\n",
              "      fill: #1967D2;\n",
              "      height: 32px;\n",
              "      padding: 0 0 0 0;\n",
              "      width: 32px;\n",
              "    }\n",
              "\n",
              "    .colab-df-convert:hover {\n",
              "      background-color: #E2EBFA;\n",
              "      box-shadow: 0px 1px 2px rgba(60, 64, 67, 0.3), 0px 1px 3px 1px rgba(60, 64, 67, 0.15);\n",
              "      fill: #174EA6;\n",
              "    }\n",
              "\n",
              "    [theme=dark] .colab-df-convert {\n",
              "      background-color: #3B4455;\n",
              "      fill: #D2E3FC;\n",
              "    }\n",
              "\n",
              "    [theme=dark] .colab-df-convert:hover {\n",
              "      background-color: #434B5C;\n",
              "      box-shadow: 0px 1px 3px 1px rgba(0, 0, 0, 0.15);\n",
              "      filter: drop-shadow(0px 1px 2px rgba(0, 0, 0, 0.3));\n",
              "      fill: #FFFFFF;\n",
              "    }\n",
              "  </style>\n",
              "\n",
              "      <script>\n",
              "        const buttonEl =\n",
              "          document.querySelector('#df-d58e7aac-c44a-46e3-918b-8328a213529e button.colab-df-convert');\n",
              "        buttonEl.style.display =\n",
              "          google.colab.kernel.accessAllowed ? 'block' : 'none';\n",
              "\n",
              "        async function convertToInteractive(key) {\n",
              "          const element = document.querySelector('#df-d58e7aac-c44a-46e3-918b-8328a213529e');\n",
              "          const dataTable =\n",
              "            await google.colab.kernel.invokeFunction('convertToInteractive',\n",
              "                                                     [key], {});\n",
              "          if (!dataTable) return;\n",
              "\n",
              "          const docLinkHtml = 'Like what you see? Visit the ' +\n",
              "            '<a target=\"_blank\" href=https://colab.research.google.com/notebooks/data_table.ipynb>data table notebook</a>'\n",
              "            + ' to learn more about interactive tables.';\n",
              "          element.innerHTML = '';\n",
              "          dataTable['output_type'] = 'display_data';\n",
              "          await google.colab.output.renderOutput(dataTable, element);\n",
              "          const docLink = document.createElement('div');\n",
              "          docLink.innerHTML = docLinkHtml;\n",
              "          element.appendChild(docLink);\n",
              "        }\n",
              "      </script>\n",
              "    </div>\n",
              "  </div>\n",
              "  "
            ]
          },
          "metadata": {},
          "execution_count": 103
        }
      ],
      "source": [
        "df.sample(5)"
      ]
    },
    {
      "cell_type": "code",
      "execution_count": 104,
      "metadata": {
        "colab": {
          "base_uri": "https://localhost:8080/",
          "height": 386
        },
        "id": "IuVpElycgQUp",
        "outputId": "769e67e5-993f-4320-dc23-c65773e3bdcb"
      },
      "outputs": [
        {
          "output_type": "execute_result",
          "data": {
            "text/plain": [
              "              Date  Store  DayOfWeek  Sales  Customers  Open  Promo  \\\n",
              "1017204 2013-01-01   1111          2      0          0     0      0   \n",
              "1017205 2013-01-01   1112          2      0          0     0      0   \n",
              "1017206 2013-01-01   1113          2      0          0     0      0   \n",
              "1017207 2013-01-01   1114          2      0          0     0      0   \n",
              "1017208 2013-01-01   1115          2      0          0     0      0   \n",
              "\n",
              "        StateHoliday  SchoolHoliday  Year  ...  WeekOfYear  StoreType  \\\n",
              "1017204            a              1  2013  ...           1          a   \n",
              "1017205            a              1  2013  ...           1          c   \n",
              "1017206            a              1  2013  ...           1          a   \n",
              "1017207            a              1  2013  ...           1          a   \n",
              "1017208            a              1  2013  ...           1          d   \n",
              "\n",
              "         Assortment CompetitionDistance CompetitionOpenSinceMonth  \\\n",
              "1017204           a              1900.0                       6.0   \n",
              "1017205           c              1880.0                       4.0   \n",
              "1017206           c              9260.0                       9.0   \n",
              "1017207           c               870.0                       9.0   \n",
              "1017208           c              5350.0                       9.0   \n",
              "\n",
              "         CompetitionOpenSinceYear  Promo2  Promo2SinceWeek  Promo2SinceYear  \\\n",
              "1017204                    2014.0       1             31.0           2013.0   \n",
              "1017205                    2006.0       0              0.0              0.0   \n",
              "1017206                    2013.0       0              0.0              0.0   \n",
              "1017207                    2013.0       0              0.0              0.0   \n",
              "1017208                    2013.0       1             22.0           2012.0   \n",
              "\n",
              "            PromoInterval  \n",
              "1017204   Jan,Apr,Jul,Oct  \n",
              "1017205                 0  \n",
              "1017206                 0  \n",
              "1017207                 0  \n",
              "1017208  Mar,Jun,Sept,Dec  \n",
              "\n",
              "[5 rows x 22 columns]"
            ],
            "text/html": [
              "\n",
              "  <div id=\"df-b8a1f16b-45bc-43b8-b94f-e0986c394939\">\n",
              "    <div class=\"colab-df-container\">\n",
              "      <div>\n",
              "<style scoped>\n",
              "    .dataframe tbody tr th:only-of-type {\n",
              "        vertical-align: middle;\n",
              "    }\n",
              "\n",
              "    .dataframe tbody tr th {\n",
              "        vertical-align: top;\n",
              "    }\n",
              "\n",
              "    .dataframe thead th {\n",
              "        text-align: right;\n",
              "    }\n",
              "</style>\n",
              "<table border=\"1\" class=\"dataframe\">\n",
              "  <thead>\n",
              "    <tr style=\"text-align: right;\">\n",
              "      <th></th>\n",
              "      <th>Date</th>\n",
              "      <th>Store</th>\n",
              "      <th>DayOfWeek</th>\n",
              "      <th>Sales</th>\n",
              "      <th>Customers</th>\n",
              "      <th>Open</th>\n",
              "      <th>Promo</th>\n",
              "      <th>StateHoliday</th>\n",
              "      <th>SchoolHoliday</th>\n",
              "      <th>Year</th>\n",
              "      <th>...</th>\n",
              "      <th>WeekOfYear</th>\n",
              "      <th>StoreType</th>\n",
              "      <th>Assortment</th>\n",
              "      <th>CompetitionDistance</th>\n",
              "      <th>CompetitionOpenSinceMonth</th>\n",
              "      <th>CompetitionOpenSinceYear</th>\n",
              "      <th>Promo2</th>\n",
              "      <th>Promo2SinceWeek</th>\n",
              "      <th>Promo2SinceYear</th>\n",
              "      <th>PromoInterval</th>\n",
              "    </tr>\n",
              "  </thead>\n",
              "  <tbody>\n",
              "    <tr>\n",
              "      <th>1017204</th>\n",
              "      <td>2013-01-01</td>\n",
              "      <td>1111</td>\n",
              "      <td>2</td>\n",
              "      <td>0</td>\n",
              "      <td>0</td>\n",
              "      <td>0</td>\n",
              "      <td>0</td>\n",
              "      <td>a</td>\n",
              "      <td>1</td>\n",
              "      <td>2013</td>\n",
              "      <td>...</td>\n",
              "      <td>1</td>\n",
              "      <td>a</td>\n",
              "      <td>a</td>\n",
              "      <td>1900.0</td>\n",
              "      <td>6.0</td>\n",
              "      <td>2014.0</td>\n",
              "      <td>1</td>\n",
              "      <td>31.0</td>\n",
              "      <td>2013.0</td>\n",
              "      <td>Jan,Apr,Jul,Oct</td>\n",
              "    </tr>\n",
              "    <tr>\n",
              "      <th>1017205</th>\n",
              "      <td>2013-01-01</td>\n",
              "      <td>1112</td>\n",
              "      <td>2</td>\n",
              "      <td>0</td>\n",
              "      <td>0</td>\n",
              "      <td>0</td>\n",
              "      <td>0</td>\n",
              "      <td>a</td>\n",
              "      <td>1</td>\n",
              "      <td>2013</td>\n",
              "      <td>...</td>\n",
              "      <td>1</td>\n",
              "      <td>c</td>\n",
              "      <td>c</td>\n",
              "      <td>1880.0</td>\n",
              "      <td>4.0</td>\n",
              "      <td>2006.0</td>\n",
              "      <td>0</td>\n",
              "      <td>0.0</td>\n",
              "      <td>0.0</td>\n",
              "      <td>0</td>\n",
              "    </tr>\n",
              "    <tr>\n",
              "      <th>1017206</th>\n",
              "      <td>2013-01-01</td>\n",
              "      <td>1113</td>\n",
              "      <td>2</td>\n",
              "      <td>0</td>\n",
              "      <td>0</td>\n",
              "      <td>0</td>\n",
              "      <td>0</td>\n",
              "      <td>a</td>\n",
              "      <td>1</td>\n",
              "      <td>2013</td>\n",
              "      <td>...</td>\n",
              "      <td>1</td>\n",
              "      <td>a</td>\n",
              "      <td>c</td>\n",
              "      <td>9260.0</td>\n",
              "      <td>9.0</td>\n",
              "      <td>2013.0</td>\n",
              "      <td>0</td>\n",
              "      <td>0.0</td>\n",
              "      <td>0.0</td>\n",
              "      <td>0</td>\n",
              "    </tr>\n",
              "    <tr>\n",
              "      <th>1017207</th>\n",
              "      <td>2013-01-01</td>\n",
              "      <td>1114</td>\n",
              "      <td>2</td>\n",
              "      <td>0</td>\n",
              "      <td>0</td>\n",
              "      <td>0</td>\n",
              "      <td>0</td>\n",
              "      <td>a</td>\n",
              "      <td>1</td>\n",
              "      <td>2013</td>\n",
              "      <td>...</td>\n",
              "      <td>1</td>\n",
              "      <td>a</td>\n",
              "      <td>c</td>\n",
              "      <td>870.0</td>\n",
              "      <td>9.0</td>\n",
              "      <td>2013.0</td>\n",
              "      <td>0</td>\n",
              "      <td>0.0</td>\n",
              "      <td>0.0</td>\n",
              "      <td>0</td>\n",
              "    </tr>\n",
              "    <tr>\n",
              "      <th>1017208</th>\n",
              "      <td>2013-01-01</td>\n",
              "      <td>1115</td>\n",
              "      <td>2</td>\n",
              "      <td>0</td>\n",
              "      <td>0</td>\n",
              "      <td>0</td>\n",
              "      <td>0</td>\n",
              "      <td>a</td>\n",
              "      <td>1</td>\n",
              "      <td>2013</td>\n",
              "      <td>...</td>\n",
              "      <td>1</td>\n",
              "      <td>d</td>\n",
              "      <td>c</td>\n",
              "      <td>5350.0</td>\n",
              "      <td>9.0</td>\n",
              "      <td>2013.0</td>\n",
              "      <td>1</td>\n",
              "      <td>22.0</td>\n",
              "      <td>2012.0</td>\n",
              "      <td>Mar,Jun,Sept,Dec</td>\n",
              "    </tr>\n",
              "  </tbody>\n",
              "</table>\n",
              "<p>5 rows × 22 columns</p>\n",
              "</div>\n",
              "      <button class=\"colab-df-convert\" onclick=\"convertToInteractive('df-b8a1f16b-45bc-43b8-b94f-e0986c394939')\"\n",
              "              title=\"Convert this dataframe to an interactive table.\"\n",
              "              style=\"display:none;\">\n",
              "        \n",
              "  <svg xmlns=\"http://www.w3.org/2000/svg\" height=\"24px\"viewBox=\"0 0 24 24\"\n",
              "       width=\"24px\">\n",
              "    <path d=\"M0 0h24v24H0V0z\" fill=\"none\"/>\n",
              "    <path d=\"M18.56 5.44l.94 2.06.94-2.06 2.06-.94-2.06-.94-.94-2.06-.94 2.06-2.06.94zm-11 1L8.5 8.5l.94-2.06 2.06-.94-2.06-.94L8.5 2.5l-.94 2.06-2.06.94zm10 10l.94 2.06.94-2.06 2.06-.94-2.06-.94-.94-2.06-.94 2.06-2.06.94z\"/><path d=\"M17.41 7.96l-1.37-1.37c-.4-.4-.92-.59-1.43-.59-.52 0-1.04.2-1.43.59L10.3 9.45l-7.72 7.72c-.78.78-.78 2.05 0 2.83L4 21.41c.39.39.9.59 1.41.59.51 0 1.02-.2 1.41-.59l7.78-7.78 2.81-2.81c.8-.78.8-2.07 0-2.86zM5.41 20L4 18.59l7.72-7.72 1.47 1.35L5.41 20z\"/>\n",
              "  </svg>\n",
              "      </button>\n",
              "      \n",
              "  <style>\n",
              "    .colab-df-container {\n",
              "      display:flex;\n",
              "      flex-wrap:wrap;\n",
              "      gap: 12px;\n",
              "    }\n",
              "\n",
              "    .colab-df-convert {\n",
              "      background-color: #E8F0FE;\n",
              "      border: none;\n",
              "      border-radius: 50%;\n",
              "      cursor: pointer;\n",
              "      display: none;\n",
              "      fill: #1967D2;\n",
              "      height: 32px;\n",
              "      padding: 0 0 0 0;\n",
              "      width: 32px;\n",
              "    }\n",
              "\n",
              "    .colab-df-convert:hover {\n",
              "      background-color: #E2EBFA;\n",
              "      box-shadow: 0px 1px 2px rgba(60, 64, 67, 0.3), 0px 1px 3px 1px rgba(60, 64, 67, 0.15);\n",
              "      fill: #174EA6;\n",
              "    }\n",
              "\n",
              "    [theme=dark] .colab-df-convert {\n",
              "      background-color: #3B4455;\n",
              "      fill: #D2E3FC;\n",
              "    }\n",
              "\n",
              "    [theme=dark] .colab-df-convert:hover {\n",
              "      background-color: #434B5C;\n",
              "      box-shadow: 0px 1px 3px 1px rgba(0, 0, 0, 0.15);\n",
              "      filter: drop-shadow(0px 1px 2px rgba(0, 0, 0, 0.3));\n",
              "      fill: #FFFFFF;\n",
              "    }\n",
              "  </style>\n",
              "\n",
              "      <script>\n",
              "        const buttonEl =\n",
              "          document.querySelector('#df-b8a1f16b-45bc-43b8-b94f-e0986c394939 button.colab-df-convert');\n",
              "        buttonEl.style.display =\n",
              "          google.colab.kernel.accessAllowed ? 'block' : 'none';\n",
              "\n",
              "        async function convertToInteractive(key) {\n",
              "          const element = document.querySelector('#df-b8a1f16b-45bc-43b8-b94f-e0986c394939');\n",
              "          const dataTable =\n",
              "            await google.colab.kernel.invokeFunction('convertToInteractive',\n",
              "                                                     [key], {});\n",
              "          if (!dataTable) return;\n",
              "\n",
              "          const docLinkHtml = 'Like what you see? Visit the ' +\n",
              "            '<a target=\"_blank\" href=https://colab.research.google.com/notebooks/data_table.ipynb>data table notebook</a>'\n",
              "            + ' to learn more about interactive tables.';\n",
              "          element.innerHTML = '';\n",
              "          dataTable['output_type'] = 'display_data';\n",
              "          await google.colab.output.renderOutput(dataTable, element);\n",
              "          const docLink = document.createElement('div');\n",
              "          docLink.innerHTML = docLinkHtml;\n",
              "          element.appendChild(docLink);\n",
              "        }\n",
              "      </script>\n",
              "    </div>\n",
              "  </div>\n",
              "  "
            ]
          },
          "metadata": {},
          "execution_count": 104
        }
      ],
      "source": [
        "df.tail()"
      ]
    },
    {
      "cell_type": "code",
      "execution_count": 105,
      "metadata": {
        "colab": {
          "base_uri": "https://localhost:8080/"
        },
        "id": "KVLAIatRbQkI",
        "outputId": "ffa92dd9-0386-431a-bb96-a78f74d0b246"
      },
      "outputs": [
        {
          "output_type": "execute_result",
          "data": {
            "text/plain": [
              "1017209"
            ]
          },
          "metadata": {},
          "execution_count": 105
        }
      ],
      "source": [
        "len(df)"
      ]
    },
    {
      "cell_type": "code",
      "execution_count": 106,
      "metadata": {
        "colab": {
          "base_uri": "https://localhost:8080/"
        },
        "id": "njsmS_MprQKn",
        "outputId": "5eb4ab67-d781-47d4-ae03-c22a56c0a575"
      },
      "outputs": [
        {
          "output_type": "execute_result",
          "data": {
            "text/plain": [
              "Index(['Date', 'Store', 'DayOfWeek', 'Sales', 'Customers', 'Open', 'Promo',\n",
              "       'StateHoliday', 'SchoolHoliday', 'Year', 'Month', 'Day', 'WeekOfYear',\n",
              "       'StoreType', 'Assortment', 'CompetitionDistance',\n",
              "       'CompetitionOpenSinceMonth', 'CompetitionOpenSinceYear', 'Promo2',\n",
              "       'Promo2SinceWeek', 'Promo2SinceYear', 'PromoInterval'],\n",
              "      dtype='object')"
            ]
          },
          "metadata": {},
          "execution_count": 106
        }
      ],
      "source": [
        "df.columns"
      ]
    },
    {
      "cell_type": "code",
      "execution_count": 107,
      "metadata": {
        "colab": {
          "base_uri": "https://localhost:8080/"
        },
        "id": "8yvLGT9zbZDA",
        "outputId": "581e71b5-5f7a-4a98-d197-c872825e0045"
      },
      "outputs": [
        {
          "output_type": "execute_result",
          "data": {
            "text/plain": [
              "0"
            ]
          },
          "metadata": {},
          "execution_count": 107
        }
      ],
      "source": [
        "df.duplicated().sum()"
      ]
    },
    {
      "cell_type": "code",
      "execution_count": 108,
      "metadata": {
        "colab": {
          "base_uri": "https://localhost:8080/"
        },
        "id": "-mb3CURQTSDy",
        "outputId": "b89fcdd9-13f7-4454-812a-bba4279ba505"
      },
      "outputs": [
        {
          "output_type": "stream",
          "name": "stdout",
          "text": [
            "<class 'pandas.core.frame.DataFrame'>\n",
            "Int64Index: 1017209 entries, 0 to 1017208\n",
            "Data columns (total 22 columns):\n",
            " #   Column                     Non-Null Count    Dtype         \n",
            "---  ------                     --------------    -----         \n",
            " 0   Date                       1017209 non-null  datetime64[ns]\n",
            " 1   Store                      1017209 non-null  int64         \n",
            " 2   DayOfWeek                  1017209 non-null  int64         \n",
            " 3   Sales                      1017209 non-null  int64         \n",
            " 4   Customers                  1017209 non-null  int64         \n",
            " 5   Open                       1017209 non-null  int64         \n",
            " 6   Promo                      1017209 non-null  int64         \n",
            " 7   StateHoliday               1017209 non-null  object        \n",
            " 8   SchoolHoliday              1017209 non-null  int64         \n",
            " 9   Year                       1017209 non-null  int64         \n",
            " 10  Month                      1017209 non-null  int64         \n",
            " 11  Day                        1017209 non-null  int64         \n",
            " 12  WeekOfYear                 1017209 non-null  int64         \n",
            " 13  StoreType                  1017209 non-null  object        \n",
            " 14  Assortment                 1017209 non-null  object        \n",
            " 15  CompetitionDistance        1017209 non-null  float64       \n",
            " 16  CompetitionOpenSinceMonth  1017209 non-null  float64       \n",
            " 17  CompetitionOpenSinceYear   1017209 non-null  float64       \n",
            " 18  Promo2                     1017209 non-null  int64         \n",
            " 19  Promo2SinceWeek            1017209 non-null  float64       \n",
            " 20  Promo2SinceYear            1017209 non-null  float64       \n",
            " 21  PromoInterval              1017209 non-null  object        \n",
            "dtypes: datetime64[ns](1), float64(5), int64(12), object(4)\n",
            "memory usage: 178.5+ MB\n"
          ]
        }
      ],
      "source": [
        "df.info()"
      ]
    },
    {
      "cell_type": "code",
      "execution_count": 109,
      "metadata": {
        "id": "Ii-3P9gKOWiU"
      },
      "outputs": [],
      "source": [
        "# Changing datatype of some columns\n",
        "df['CompetitionOpenSinceMonth'] = df['CompetitionOpenSinceMonth'].astype(int)\n",
        "df['CompetitionOpenSinceYear'] = df['CompetitionOpenSinceYear'].astype(int)\n",
        "df['Promo2SinceWeek'] = df['Promo2SinceWeek'].astype(int)\n",
        "df['Promo2SinceYear'] = df['Promo2SinceYear'].astype(int)"
      ]
    },
    {
      "cell_type": "code",
      "execution_count": 110,
      "metadata": {
        "colab": {
          "base_uri": "https://localhost:8080/",
          "height": 364
        },
        "id": "LwomXBepOdHA",
        "outputId": "15dd2b39-cb7f-4555-97ac-d029d34cf9e6"
      },
      "outputs": [
        {
          "output_type": "execute_result",
          "data": {
            "text/plain": [
              "            Store  DayOfWeek       Sales   Customers        Open       Promo  \\\n",
              "count  1017209.00  1017209.0  1017209.00  1017209.00  1017209.00  1017209.00   \n",
              "mean       558.43        4.0     5773.82      633.15        0.83        0.38   \n",
              "std        321.91        2.0     3849.93      464.41        0.38        0.49   \n",
              "min          1.00        1.0        0.00        0.00        0.00        0.00   \n",
              "25%        280.00        2.0     3727.00      405.00        1.00        0.00   \n",
              "50%        558.00        4.0     5744.00      609.00        1.00        0.00   \n",
              "75%        838.00        6.0     7856.00      837.00        1.00        1.00   \n",
              "max       1115.00        7.0    41551.00     7388.00        1.00        1.00   \n",
              "\n",
              "       SchoolHoliday        Year       Month         Day  WeekOfYear  \\\n",
              "count     1017209.00  1017209.00  1017209.00  1017209.00  1017209.00   \n",
              "mean            0.18     2013.83        5.85       15.70       23.62   \n",
              "std             0.38        0.78        3.33        8.79       14.43   \n",
              "min             0.00     2013.00        1.00        1.00        1.00   \n",
              "25%             0.00     2013.00        3.00        8.00       11.00   \n",
              "50%             0.00     2014.00        6.00       16.00       22.00   \n",
              "75%             0.00     2014.00        8.00       23.00       35.00   \n",
              "max             1.00     2015.00       12.00       31.00       52.00   \n",
              "\n",
              "       CompetitionDistance  CompetitionOpenSinceMonth  \\\n",
              "count           1017209.00                 1017209.00   \n",
              "mean               5422.02                       7.79   \n",
              "std                7706.92                       2.78   \n",
              "min                  20.00                       1.00   \n",
              "25%                 710.00                       6.00   \n",
              "50%                2325.00                       9.00   \n",
              "75%                6880.00                       9.00   \n",
              "max               75860.00                      12.00   \n",
              "\n",
              "       CompetitionOpenSinceYear     Promo2  Promo2SinceWeek  Promo2SinceYear  \n",
              "count                1017209.00  1017209.0       1017209.00       1017209.00  \n",
              "mean                    2010.06        0.5            11.65          1007.01  \n",
              "std                        5.34        0.5            15.32          1005.88  \n",
              "min                     1900.00        0.0             0.00             0.00  \n",
              "25%                     2008.00        0.0             0.00             0.00  \n",
              "50%                     2012.00        1.0             1.00          2009.00  \n",
              "75%                     2013.00        1.0            22.00          2012.00  \n",
              "max                     2015.00        1.0            50.00          2015.00  "
            ],
            "text/html": [
              "\n",
              "  <div id=\"df-4cdd544d-4914-4046-8494-6e0bffefdb71\">\n",
              "    <div class=\"colab-df-container\">\n",
              "      <div>\n",
              "<style scoped>\n",
              "    .dataframe tbody tr th:only-of-type {\n",
              "        vertical-align: middle;\n",
              "    }\n",
              "\n",
              "    .dataframe tbody tr th {\n",
              "        vertical-align: top;\n",
              "    }\n",
              "\n",
              "    .dataframe thead th {\n",
              "        text-align: right;\n",
              "    }\n",
              "</style>\n",
              "<table border=\"1\" class=\"dataframe\">\n",
              "  <thead>\n",
              "    <tr style=\"text-align: right;\">\n",
              "      <th></th>\n",
              "      <th>Store</th>\n",
              "      <th>DayOfWeek</th>\n",
              "      <th>Sales</th>\n",
              "      <th>Customers</th>\n",
              "      <th>Open</th>\n",
              "      <th>Promo</th>\n",
              "      <th>SchoolHoliday</th>\n",
              "      <th>Year</th>\n",
              "      <th>Month</th>\n",
              "      <th>Day</th>\n",
              "      <th>WeekOfYear</th>\n",
              "      <th>CompetitionDistance</th>\n",
              "      <th>CompetitionOpenSinceMonth</th>\n",
              "      <th>CompetitionOpenSinceYear</th>\n",
              "      <th>Promo2</th>\n",
              "      <th>Promo2SinceWeek</th>\n",
              "      <th>Promo2SinceYear</th>\n",
              "    </tr>\n",
              "  </thead>\n",
              "  <tbody>\n",
              "    <tr>\n",
              "      <th>count</th>\n",
              "      <td>1017209.00</td>\n",
              "      <td>1017209.0</td>\n",
              "      <td>1017209.00</td>\n",
              "      <td>1017209.00</td>\n",
              "      <td>1017209.00</td>\n",
              "      <td>1017209.00</td>\n",
              "      <td>1017209.00</td>\n",
              "      <td>1017209.00</td>\n",
              "      <td>1017209.00</td>\n",
              "      <td>1017209.00</td>\n",
              "      <td>1017209.00</td>\n",
              "      <td>1017209.00</td>\n",
              "      <td>1017209.00</td>\n",
              "      <td>1017209.00</td>\n",
              "      <td>1017209.0</td>\n",
              "      <td>1017209.00</td>\n",
              "      <td>1017209.00</td>\n",
              "    </tr>\n",
              "    <tr>\n",
              "      <th>mean</th>\n",
              "      <td>558.43</td>\n",
              "      <td>4.0</td>\n",
              "      <td>5773.82</td>\n",
              "      <td>633.15</td>\n",
              "      <td>0.83</td>\n",
              "      <td>0.38</td>\n",
              "      <td>0.18</td>\n",
              "      <td>2013.83</td>\n",
              "      <td>5.85</td>\n",
              "      <td>15.70</td>\n",
              "      <td>23.62</td>\n",
              "      <td>5422.02</td>\n",
              "      <td>7.79</td>\n",
              "      <td>2010.06</td>\n",
              "      <td>0.5</td>\n",
              "      <td>11.65</td>\n",
              "      <td>1007.01</td>\n",
              "    </tr>\n",
              "    <tr>\n",
              "      <th>std</th>\n",
              "      <td>321.91</td>\n",
              "      <td>2.0</td>\n",
              "      <td>3849.93</td>\n",
              "      <td>464.41</td>\n",
              "      <td>0.38</td>\n",
              "      <td>0.49</td>\n",
              "      <td>0.38</td>\n",
              "      <td>0.78</td>\n",
              "      <td>3.33</td>\n",
              "      <td>8.79</td>\n",
              "      <td>14.43</td>\n",
              "      <td>7706.92</td>\n",
              "      <td>2.78</td>\n",
              "      <td>5.34</td>\n",
              "      <td>0.5</td>\n",
              "      <td>15.32</td>\n",
              "      <td>1005.88</td>\n",
              "    </tr>\n",
              "    <tr>\n",
              "      <th>min</th>\n",
              "      <td>1.00</td>\n",
              "      <td>1.0</td>\n",
              "      <td>0.00</td>\n",
              "      <td>0.00</td>\n",
              "      <td>0.00</td>\n",
              "      <td>0.00</td>\n",
              "      <td>0.00</td>\n",
              "      <td>2013.00</td>\n",
              "      <td>1.00</td>\n",
              "      <td>1.00</td>\n",
              "      <td>1.00</td>\n",
              "      <td>20.00</td>\n",
              "      <td>1.00</td>\n",
              "      <td>1900.00</td>\n",
              "      <td>0.0</td>\n",
              "      <td>0.00</td>\n",
              "      <td>0.00</td>\n",
              "    </tr>\n",
              "    <tr>\n",
              "      <th>25%</th>\n",
              "      <td>280.00</td>\n",
              "      <td>2.0</td>\n",
              "      <td>3727.00</td>\n",
              "      <td>405.00</td>\n",
              "      <td>1.00</td>\n",
              "      <td>0.00</td>\n",
              "      <td>0.00</td>\n",
              "      <td>2013.00</td>\n",
              "      <td>3.00</td>\n",
              "      <td>8.00</td>\n",
              "      <td>11.00</td>\n",
              "      <td>710.00</td>\n",
              "      <td>6.00</td>\n",
              "      <td>2008.00</td>\n",
              "      <td>0.0</td>\n",
              "      <td>0.00</td>\n",
              "      <td>0.00</td>\n",
              "    </tr>\n",
              "    <tr>\n",
              "      <th>50%</th>\n",
              "      <td>558.00</td>\n",
              "      <td>4.0</td>\n",
              "      <td>5744.00</td>\n",
              "      <td>609.00</td>\n",
              "      <td>1.00</td>\n",
              "      <td>0.00</td>\n",
              "      <td>0.00</td>\n",
              "      <td>2014.00</td>\n",
              "      <td>6.00</td>\n",
              "      <td>16.00</td>\n",
              "      <td>22.00</td>\n",
              "      <td>2325.00</td>\n",
              "      <td>9.00</td>\n",
              "      <td>2012.00</td>\n",
              "      <td>1.0</td>\n",
              "      <td>1.00</td>\n",
              "      <td>2009.00</td>\n",
              "    </tr>\n",
              "    <tr>\n",
              "      <th>75%</th>\n",
              "      <td>838.00</td>\n",
              "      <td>6.0</td>\n",
              "      <td>7856.00</td>\n",
              "      <td>837.00</td>\n",
              "      <td>1.00</td>\n",
              "      <td>1.00</td>\n",
              "      <td>0.00</td>\n",
              "      <td>2014.00</td>\n",
              "      <td>8.00</td>\n",
              "      <td>23.00</td>\n",
              "      <td>35.00</td>\n",
              "      <td>6880.00</td>\n",
              "      <td>9.00</td>\n",
              "      <td>2013.00</td>\n",
              "      <td>1.0</td>\n",
              "      <td>22.00</td>\n",
              "      <td>2012.00</td>\n",
              "    </tr>\n",
              "    <tr>\n",
              "      <th>max</th>\n",
              "      <td>1115.00</td>\n",
              "      <td>7.0</td>\n",
              "      <td>41551.00</td>\n",
              "      <td>7388.00</td>\n",
              "      <td>1.00</td>\n",
              "      <td>1.00</td>\n",
              "      <td>1.00</td>\n",
              "      <td>2015.00</td>\n",
              "      <td>12.00</td>\n",
              "      <td>31.00</td>\n",
              "      <td>52.00</td>\n",
              "      <td>75860.00</td>\n",
              "      <td>12.00</td>\n",
              "      <td>2015.00</td>\n",
              "      <td>1.0</td>\n",
              "      <td>50.00</td>\n",
              "      <td>2015.00</td>\n",
              "    </tr>\n",
              "  </tbody>\n",
              "</table>\n",
              "</div>\n",
              "      <button class=\"colab-df-convert\" onclick=\"convertToInteractive('df-4cdd544d-4914-4046-8494-6e0bffefdb71')\"\n",
              "              title=\"Convert this dataframe to an interactive table.\"\n",
              "              style=\"display:none;\">\n",
              "        \n",
              "  <svg xmlns=\"http://www.w3.org/2000/svg\" height=\"24px\"viewBox=\"0 0 24 24\"\n",
              "       width=\"24px\">\n",
              "    <path d=\"M0 0h24v24H0V0z\" fill=\"none\"/>\n",
              "    <path d=\"M18.56 5.44l.94 2.06.94-2.06 2.06-.94-2.06-.94-.94-2.06-.94 2.06-2.06.94zm-11 1L8.5 8.5l.94-2.06 2.06-.94-2.06-.94L8.5 2.5l-.94 2.06-2.06.94zm10 10l.94 2.06.94-2.06 2.06-.94-2.06-.94-.94-2.06-.94 2.06-2.06.94z\"/><path d=\"M17.41 7.96l-1.37-1.37c-.4-.4-.92-.59-1.43-.59-.52 0-1.04.2-1.43.59L10.3 9.45l-7.72 7.72c-.78.78-.78 2.05 0 2.83L4 21.41c.39.39.9.59 1.41.59.51 0 1.02-.2 1.41-.59l7.78-7.78 2.81-2.81c.8-.78.8-2.07 0-2.86zM5.41 20L4 18.59l7.72-7.72 1.47 1.35L5.41 20z\"/>\n",
              "  </svg>\n",
              "      </button>\n",
              "      \n",
              "  <style>\n",
              "    .colab-df-container {\n",
              "      display:flex;\n",
              "      flex-wrap:wrap;\n",
              "      gap: 12px;\n",
              "    }\n",
              "\n",
              "    .colab-df-convert {\n",
              "      background-color: #E8F0FE;\n",
              "      border: none;\n",
              "      border-radius: 50%;\n",
              "      cursor: pointer;\n",
              "      display: none;\n",
              "      fill: #1967D2;\n",
              "      height: 32px;\n",
              "      padding: 0 0 0 0;\n",
              "      width: 32px;\n",
              "    }\n",
              "\n",
              "    .colab-df-convert:hover {\n",
              "      background-color: #E2EBFA;\n",
              "      box-shadow: 0px 1px 2px rgba(60, 64, 67, 0.3), 0px 1px 3px 1px rgba(60, 64, 67, 0.15);\n",
              "      fill: #174EA6;\n",
              "    }\n",
              "\n",
              "    [theme=dark] .colab-df-convert {\n",
              "      background-color: #3B4455;\n",
              "      fill: #D2E3FC;\n",
              "    }\n",
              "\n",
              "    [theme=dark] .colab-df-convert:hover {\n",
              "      background-color: #434B5C;\n",
              "      box-shadow: 0px 1px 3px 1px rgba(0, 0, 0, 0.15);\n",
              "      filter: drop-shadow(0px 1px 2px rgba(0, 0, 0, 0.3));\n",
              "      fill: #FFFFFF;\n",
              "    }\n",
              "  </style>\n",
              "\n",
              "      <script>\n",
              "        const buttonEl =\n",
              "          document.querySelector('#df-4cdd544d-4914-4046-8494-6e0bffefdb71 button.colab-df-convert');\n",
              "        buttonEl.style.display =\n",
              "          google.colab.kernel.accessAllowed ? 'block' : 'none';\n",
              "\n",
              "        async function convertToInteractive(key) {\n",
              "          const element = document.querySelector('#df-4cdd544d-4914-4046-8494-6e0bffefdb71');\n",
              "          const dataTable =\n",
              "            await google.colab.kernel.invokeFunction('convertToInteractive',\n",
              "                                                     [key], {});\n",
              "          if (!dataTable) return;\n",
              "\n",
              "          const docLinkHtml = 'Like what you see? Visit the ' +\n",
              "            '<a target=\"_blank\" href=https://colab.research.google.com/notebooks/data_table.ipynb>data table notebook</a>'\n",
              "            + ' to learn more about interactive tables.';\n",
              "          element.innerHTML = '';\n",
              "          dataTable['output_type'] = 'display_data';\n",
              "          await google.colab.output.renderOutput(dataTable, element);\n",
              "          const docLink = document.createElement('div');\n",
              "          docLink.innerHTML = docLinkHtml;\n",
              "          element.appendChild(docLink);\n",
              "        }\n",
              "      </script>\n",
              "    </div>\n",
              "  </div>\n",
              "  "
            ]
          },
          "metadata": {},
          "execution_count": 110
        }
      ],
      "source": [
        "df.describe().round(2)"
      ]
    },
    {
      "cell_type": "markdown",
      "metadata": {
        "id": "KFDtzemEiC5r"
      },
      "source": [
        "## <b> Exploratory Data Analysis </b>"
      ]
    },
    {
      "cell_type": "markdown",
      "metadata": {
        "id": "Lxx_JePFjd7s"
      },
      "source": [
        "### **Correlation Heatmap**"
      ]
    },
    {
      "cell_type": "code",
      "execution_count": 111,
      "metadata": {
        "colab": {
          "base_uri": "https://localhost:8080/",
          "height": 748
        },
        "id": "0NxZyJaAw6gU",
        "outputId": "d77c91c2-b2e7-4922-84f9-cdee07d00ca8"
      },
      "outputs": [
        {
          "output_type": "execute_result",
          "data": {
            "text/plain": [
              "<matplotlib.axes._subplots.AxesSubplot at 0x7fa58f1ae610>"
            ]
          },
          "metadata": {},
          "execution_count": 111
        },
        {
          "output_type": "display_data",
          "data": {
            "text/plain": [
              "<Figure size 1296x720 with 2 Axes>"
            ],
            "image/png": "[encoded data removed]"
          },
          "metadata": {
            "needs_background": "light"
          }
        }
      ],
      "source": [
        "correlation = df.corr()\n",
        "plt.figure(figsize=(18,10))\n",
        "sns.heatmap(correlation, annot=True, linewidths=0.2, cmap='BuPu')"
      ]
    },
    {
      "cell_type": "markdown",
      "source": [
        "### **Scatter Plot - Sales and Customer**"
      ],
      "metadata": {
        "id": "WvyxdweH4M1L"
      }
    },
    {
      "cell_type": "code",
      "source": [
        "sns.scatterplot(x=df['Customers'], y=df['Sales'])"
      ],
      "metadata": {
        "colab": {
          "base_uri": "https://localhost:8080/",
          "height": 296
        },
        "id": "fNaYtlylnIuV",
        "outputId": "f08500ce-c05f-41e9-cb5e-8d273d8a0794"
      },
      "execution_count": 166,
      "outputs": [
        {
          "output_type": "execute_result",
          "data": {
            "text/plain": [
              "<matplotlib.axes._subplots.AxesSubplot at 0x7fa58758a110>"
            ]
          },
          "metadata": {},
          "execution_count": 166
        },
        {
          "output_type": "display_data",
          "data": {
            "text/plain": [
              "<Figure size 432x288 with 1 Axes>"
            ],
            "image/png": "[encoded data removed]"
          },
          "metadata": {
            "needs_background": "light"
          }
        }
      ]
    },
    {
      "cell_type": "markdown",
      "source": [
        "### **Scatter Plot - Sales and CompetitionDistance**"
      ],
      "metadata": {
        "id": "DjJ7ev1X4ZZ6"
      }
    },
    {
      "cell_type": "code",
      "source": [
        "sns.scatterplot(x=df['CompetitionDistance'], y=df['Sales'])"
      ],
      "metadata": {
        "colab": {
          "base_uri": "https://localhost:8080/",
          "height": 296
        },
        "id": "mZLReY9Q3ldi",
        "outputId": "e27f9ac2-324d-4ebf-ed78-19fda8b58fcd"
      },
      "execution_count": 173,
      "outputs": [
        {
          "output_type": "execute_result",
          "data": {
            "text/plain": [
              "<matplotlib.axes._subplots.AxesSubplot at 0x7fa5871eb2d0>"
            ]
          },
          "metadata": {},
          "execution_count": 173
        },
        {
          "output_type": "display_data",
          "data": {
            "text/plain": [
              "<Figure size 432x288 with 1 Axes>"
            ],
            "image/png": "[encoded data removed]"
          },
          "metadata": {
            "needs_background": "light"
          }
        }
      ]
    },
    {
      "cell_type": "code",
      "source": [
        "sns.scatterplot(x=df['Promo'], y=df['Sales'])"
      ],
      "metadata": {
        "colab": {
          "base_uri": "https://localhost:8080/",
          "height": 296
        },
        "id": "d_de5cuh3wX3",
        "outputId": "f455f9b5-f473-4f0c-9587-92cc14c7d5e7"
      },
      "execution_count": 174,
      "outputs": [
        {
          "output_type": "execute_result",
          "data": {
            "text/plain": [
              "<matplotlib.axes._subplots.AxesSubplot at 0x7fa5871cbf10>"
            ]
          },
          "metadata": {},
          "execution_count": 174
        },
        {
          "output_type": "display_data",
          "data": {
            "text/plain": [
              "<Figure size 432x288 with 1 Axes>"
            ],
            "image/png": "[encoded data removed]"
          },
          "metadata": {
            "needs_background": "light"
          }
        }
      ]
    },
    {
      "cell_type": "markdown",
      "metadata": {
        "id": "468rexhPv9_I"
      },
      "source": [
        "### **Store Open Closed Countplot**"
      ]
    },
    {
      "cell_type": "code",
      "execution_count": 112,
      "metadata": {
        "colab": {
          "base_uri": "https://localhost:8080/",
          "height": 296
        },
        "id": "aOMl09RQsTle",
        "outputId": "a623200b-7485-48df-98da-6d45be3aedd6"
      },
      "outputs": [
        {
          "output_type": "execute_result",
          "data": {
            "text/plain": [
              "<matplotlib.axes._subplots.AxesSubplot at 0x7fa587b6f210>"
            ]
          },
          "metadata": {},
          "execution_count": 112
        },
        {
          "output_type": "display_data",
          "data": {
            "text/plain": [
              "<Figure size 432x288 with 1 Axes>"
            ],
            "image/png": "[encoded data removed]"
          },
          "metadata": {
            "needs_background": "light"
          }
        }
      ],
      "source": [
        "sns.countplot(x=df[\"Open\"])"
      ]
    },
    {
      "cell_type": "markdown",
      "metadata": {
        "id": "Uwu3Z7U5mJeW"
      },
      "source": [
        "### **Sales over Year**"
      ]
    },
    {
      "cell_type": "code",
      "execution_count": 113,
      "metadata": {
        "colab": {
          "base_uri": "https://localhost:8080/",
          "height": 295
        },
        "id": "n3c5D_PulihV",
        "outputId": "8b2cd822-be6b-40db-8108-0543d231ff5e"
      },
      "outputs": [
        {
          "output_type": "display_data",
          "data": {
            "text/plain": [
              "<Figure size 432x288 with 1 Axes>"
            ],
            "image/png": "[encoded data removed]"
          },
          "metadata": {
            "needs_background": "light"
          }
        }
      ],
      "source": [
        "sns.barplot(x='Year', y='Sales', data=df).set(title='Yearly Sales')\n",
        "plt.show()"
      ]
    },
    {
      "cell_type": "markdown",
      "metadata": {
        "id": "zFTgfPynyU0s"
      },
      "source": [
        "*   Observation - Little increase in sales in successive year."
      ]
    },
    {
      "cell_type": "markdown",
      "metadata": {
        "id": "4Cb-Y7ign2ex"
      },
      "source": [
        "### **Sales vs Promo**"
      ]
    },
    {
      "cell_type": "code",
      "execution_count": 114,
      "metadata": {
        "colab": {
          "base_uri": "https://localhost:8080/",
          "height": 312
        },
        "id": "X0Ih64iEmWl6",
        "outputId": "baf3252f-dd77-4700-aa69-eb9f46fa5ca6"
      },
      "outputs": [
        {
          "output_type": "execute_result",
          "data": {
            "text/plain": [
              "[Text(0.5, 1.0, 'Sales on Promo')]"
            ]
          },
          "metadata": {},
          "execution_count": 114
        },
        {
          "output_type": "display_data",
          "data": {
            "text/plain": [
              "<Figure size 432x288 with 1 Axes>"
            ],
            "image/png": "[encoded data removed]"
          },
          "metadata": {
            "needs_background": "light"
          }
        }
      ],
      "source": [
        "sns.barplot(x='Promo',y='Sales',data=df).set(title='Sales on Promo')"
      ]
    },
    {
      "cell_type": "markdown",
      "metadata": {
        "id": "gsdOGjtmy0O2"
      },
      "source": [
        "*   Observation - More sales when promos are running."
      ]
    },
    {
      "cell_type": "markdown",
      "metadata": {
        "id": "JTAWF_aeoC3N"
      },
      "source": [
        "### **Sales vs Assortment**"
      ]
    },
    {
      "cell_type": "code",
      "execution_count": 115,
      "metadata": {
        "colab": {
          "base_uri": "https://localhost:8080/",
          "height": 312
        },
        "id": "5M4PhQkznmub",
        "outputId": "ee99a483-b04b-4c0c-f51f-2a6909b9a17b"
      },
      "outputs": [
        {
          "output_type": "execute_result",
          "data": {
            "text/plain": [
              "[Text(0.5, 1.0, 'Assortment vs Sales')]"
            ]
          },
          "metadata": {},
          "execution_count": 115
        },
        {
          "output_type": "display_data",
          "data": {
            "text/plain": [
              "<Figure size 432x288 with 1 Axes>"
            ],
            "image/png": "[encoded data removed]"
          },
          "metadata": {
            "needs_background": "light"
          }
        }
      ],
      "source": [
        "sns.barplot(x='Assortment', y='Sales', data=df).set(title='Assortment vs Sales')"
      ]
    },
    {
      "cell_type": "markdown",
      "metadata": {
        "id": "85KHHl2kzgZb"
      },
      "source": [
        "*   Observation - Asortment Level 'b' has the highest sales and Level 'a' has the lowest sales."
      ]
    },
    {
      "cell_type": "markdown",
      "metadata": {
        "id": "t70WyhK0Twc1"
      },
      "source": [
        "### **Sales vs School Holiday**"
      ]
    },
    {
      "cell_type": "code",
      "execution_count": 116,
      "metadata": {
        "colab": {
          "base_uri": "https://localhost:8080/",
          "height": 312
        },
        "id": "zxpEecpkoHT5",
        "outputId": "57c6fc21-150a-418b-dc1d-fcbb0ff1c6b1"
      },
      "outputs": [
        {
          "output_type": "execute_result",
          "data": {
            "text/plain": [
              "[Text(0.5, 1.0, 'Sales vs School Holiday')]"
            ]
          },
          "metadata": {},
          "execution_count": 116
        },
        {
          "output_type": "display_data",
          "data": {
            "text/plain": [
              "<Figure size 432x288 with 1 Axes>"
            ],
            "image/png": "[encoded data removed]"
          },
          "metadata": {
            "needs_background": "light"
          }
        }
      ],
      "source": [
        "sns.barplot(x='SchoolHoliday', y='Sales', data=df).set(title='Sales vs School Holiday')"
      ]
    },
    {
      "cell_type": "markdown",
      "metadata": {
        "id": "uOU6mkoj37pC"
      },
      "source": [
        "*   Observation - More sales on School Holidays."
      ]
    },
    {
      "cell_type": "markdown",
      "metadata": {
        "id": "9C80BIzET9_G"
      },
      "source": [
        "### **Sales vs Day of Week**"
      ]
    },
    {
      "cell_type": "code",
      "execution_count": 117,
      "metadata": {
        "colab": {
          "base_uri": "https://localhost:8080/",
          "height": 312
        },
        "id": "OlruznYHoSvG",
        "outputId": "1707e3ff-7e02-44b2-eb44-46910ec53a17"
      },
      "outputs": [
        {
          "output_type": "execute_result",
          "data": {
            "text/plain": [
              "[Text(0.5, 1.0, 'Sales vs Day of Week')]"
            ]
          },
          "metadata": {},
          "execution_count": 117
        },
        {
          "output_type": "display_data",
          "data": {
            "text/plain": [
              "<Figure size 432x288 with 1 Axes>"
            ],
            "image/png": "[encoded data removed]"
          },
          "metadata": {
            "needs_background": "light"
          }
        }
      ],
      "source": [
        "sns.barplot(x='DayOfWeek',y='Sales',data=df).set(title='Sales vs Day of Week')"
      ]
    },
    {
      "cell_type": "markdown",
      "metadata": {
        "id": "9iBvzoN14Q0s"
      },
      "source": [
        "*   Observation - More sales on Monday, Tuesday and Friday.  - Sunday has the lowest sale."
      ]
    },
    {
      "cell_type": "markdown",
      "metadata": {
        "id": "rBEJWhZNUEBN"
      },
      "source": [
        "### **Sales vs StoreType**"
      ]
    },
    {
      "cell_type": "code",
      "execution_count": 118,
      "metadata": {
        "colab": {
          "base_uri": "https://localhost:8080/",
          "height": 312
        },
        "id": "FHQeBTnmVa3g",
        "outputId": "00cec49b-b4d8-4748-df71-b9ea549a50e0"
      },
      "outputs": [
        {
          "output_type": "execute_result",
          "data": {
            "text/plain": [
              "[Text(0.5, 1.0, 'Sales vs StoreType')]"
            ]
          },
          "metadata": {},
          "execution_count": 118
        },
        {
          "output_type": "display_data",
          "data": {
            "text/plain": [
              "<Figure size 432x288 with 1 Axes>"
            ],
            "image/png": "[encoded data removed]"
          },
          "metadata": {
            "needs_background": "light"
          }
        }
      ],
      "source": [
        "sns.barplot(x='StoreType', y='Sales', data=df).set(title='Sales vs StoreType')"
      ]
    },
    {
      "cell_type": "markdown",
      "metadata": {
        "id": "cSsP5zoM4_rx"
      },
      "source": [
        "*   Observation - StoreType 'b' has the highest sales."
      ]
    },
    {
      "cell_type": "markdown",
      "source": [
        "### **Proportion of StoreTypes**"
      ],
      "metadata": {
        "id": "8ykzEFtusx-0"
      }
    },
    {
      "cell_type": "code",
      "source": [
        "store_type = df['StoreType'].value_counts()\n",
        "store_type.plot.pie(title='Store Types', legend=True, autopct='%1.1f%%', shadow=True)\n",
        "plt.show()"
      ],
      "metadata": {
        "colab": {
          "base_uri": "https://localhost:8080/",
          "height": 264
        },
        "id": "9N9Y6bMVrlbP",
        "outputId": "13db8779-5a3d-4bc7-eb51-e812cecdd41a"
      },
      "execution_count": 170,
      "outputs": [
        {
          "output_type": "display_data",
          "data": {
            "text/plain": [
              "<Figure size 432x288 with 1 Axes>"
            ],
            "image/png": "[encoded data removed]"
          },
          "metadata": {}
        }
      ]
    },
    {
      "cell_type": "markdown",
      "source": [
        "### **Customer Proportion per StoreType**"
      ],
      "metadata": {
        "id": "ic9n-7ZDs4c1"
      }
    },
    {
      "cell_type": "code",
      "source": [
        "cust = df.groupby('StoreType')['Customers'].sum()\n",
        "cust.plot.pie(title='Customer Proportion per StoreType', legend=True, autopct='%1.1f%%', shadow=True)\n",
        "plt.show()"
      ],
      "metadata": {
        "colab": {
          "base_uri": "https://localhost:8080/",
          "height": 264
        },
        "id": "1zc3llScr_Ee",
        "outputId": "4d9913d7-ce8d-4c04-f36f-449d50d8fb9c"
      },
      "execution_count": 171,
      "outputs": [
        {
          "output_type": "display_data",
          "data": {
            "text/plain": [
              "<Figure size 432x288 with 1 Axes>"
            ],
            "image/png": "[encoded data removed]"
          },
          "metadata": {}
        }
      ]
    },
    {
      "cell_type": "markdown",
      "metadata": {
        "id": "4ItFqnhw5Sx8"
      },
      "source": [
        "## <b> Feature Engineering </b>"
      ]
    },
    {
      "cell_type": "code",
      "execution_count": 119,
      "metadata": {
        "id": "65t9N69c5dsP"
      },
      "outputs": [],
      "source": [
        "# Making a copy of Dataframe (df) and further working on it\n",
        "dfd = df.copy()"
      ]
    },
    {
      "cell_type": "code",
      "execution_count": 120,
      "metadata": {
        "colab": {
          "base_uri": "https://localhost:8080/"
        },
        "id": "ox-FG8oW562F",
        "outputId": "5796db58-415a-4fbd-fb73-cbe19e62f0ec"
      },
      "outputs": [
        {
          "output_type": "execute_result",
          "data": {
            "text/plain": [
              "Index(['Date', 'Store', 'DayOfWeek', 'Sales', 'Customers', 'Open', 'Promo',\n",
              "       'StateHoliday', 'SchoolHoliday', 'Year', 'Month', 'Day', 'WeekOfYear',\n",
              "       'StoreType', 'Assortment', 'CompetitionDistance',\n",
              "       'CompetitionOpenSinceMonth', 'CompetitionOpenSinceYear', 'Promo2',\n",
              "       'Promo2SinceWeek', 'Promo2SinceYear', 'PromoInterval'],\n",
              "      dtype='object')"
            ]
          },
          "metadata": {},
          "execution_count": 120
        }
      ],
      "source": [
        "# list of columns in dfd dataframe\n",
        "dfd.columns"
      ]
    },
    {
      "cell_type": "code",
      "execution_count": 121,
      "metadata": {
        "id": "dh4GyE9IPzzw"
      },
      "outputs": [],
      "source": [
        "# Filtering stores which are closed as they wont generate sales\n",
        "dfd = dfd[dfd.Open != 0]"
      ]
    },
    {
      "cell_type": "code",
      "execution_count": 122,
      "metadata": {
        "id": "7dQnDOJeRUKr"
      },
      "outputs": [],
      "source": [
        "# Dropping Open column as it is not a variable anymore\n",
        "dfd = dfd.drop('Open', axis=1)"
      ]
    },
    {
      "cell_type": "code",
      "execution_count": 123,
      "metadata": {
        "colab": {
          "base_uri": "https://localhost:8080/"
        },
        "id": "XBm8RFeTSdk8",
        "outputId": "b798101e-324b-4887-b982-68b85aacba04"
      },
      "outputs": [
        {
          "output_type": "execute_result",
          "data": {
            "text/plain": [
              "31460"
            ]
          },
          "metadata": {},
          "execution_count": 123
        }
      ],
      "source": [
        "# Stores with zero Sales\n",
        "dfd[dfd.Sales == 0]['Store'].sum()"
      ]
    },
    {
      "cell_type": "code",
      "execution_count": 124,
      "metadata": {
        "colab": {
          "base_uri": "https://localhost:8080/"
        },
        "id": "HaduTmaHTky9",
        "outputId": "32a47ccc-48b8-4b10-9f93-98638c8ee2c2"
      },
      "outputs": [
        {
          "output_type": "execute_result",
          "data": {
            "text/plain": [
              "0.0005356552440563345"
            ]
          },
          "metadata": {},
          "execution_count": 124
        }
      ],
      "source": [
        "# Percentage of open stored with zero sales\n",
        "dfd[dfd.Sales == 0]['Store'].sum()/dfd.Sales.sum().round(2) * 100"
      ]
    },
    {
      "cell_type": "code",
      "execution_count": 125,
      "metadata": {
        "id": "eQAla6DGVowU"
      },
      "outputs": [],
      "source": [
        "# Filtering rows with Sales > 0\n",
        "dfd = dfd[dfd.Sales != 0]"
      ]
    },
    {
      "cell_type": "code",
      "execution_count": 126,
      "metadata": {
        "colab": {
          "base_uri": "https://localhost:8080/"
        },
        "id": "f5TmljWpWJSb",
        "outputId": "c2414c90-2c78-4be8-a663-734a28024a58"
      },
      "outputs": [
        {
          "output_type": "execute_result",
          "data": {
            "text/plain": [
              "0"
            ]
          },
          "metadata": {},
          "execution_count": 126
        }
      ],
      "source": [
        "# Checking\n",
        "dfd[dfd.Sales == 0]['Store'].sum()"
      ]
    },
    {
      "cell_type": "code",
      "execution_count": 127,
      "metadata": {
        "colab": {
          "base_uri": "https://localhost:8080/"
        },
        "id": "nHV7v_WssHjh",
        "outputId": "cf905e84-c2c5-49ff-c5aa-8ea60fc98208"
      },
      "outputs": [
        {
          "output_type": "execute_result",
          "data": {
            "text/plain": [
              "Index(['Date', 'Store', 'DayOfWeek', 'Sales', 'Customers', 'Promo',\n",
              "       'StateHoliday', 'SchoolHoliday', 'Year', 'Month', 'Day', 'WeekOfYear',\n",
              "       'StoreType', 'Assortment', 'CompetitionDistance',\n",
              "       'CompetitionOpenSinceMonth', 'CompetitionOpenSinceYear', 'Promo2',\n",
              "       'Promo2SinceWeek', 'Promo2SinceYear', 'PromoInterval'],\n",
              "      dtype='object')"
            ]
          },
          "metadata": {},
          "execution_count": 127
        }
      ],
      "source": [
        "dfd.columns"
      ]
    },
    {
      "cell_type": "code",
      "execution_count": 128,
      "metadata": {
        "colab": {
          "base_uri": "https://localhost:8080/",
          "height": 551
        },
        "id": "y65zYdAyWMTr",
        "outputId": "99b330c8-1498-4546-f532-b1f7167a3f7b"
      },
      "outputs": [
        {
          "output_type": "execute_result",
          "data": {
            "text/plain": [
              "                              count     mean      std     min     25%     50%  \\\n",
              "Store                      844338.0   558.42   321.73     1.0   280.0   558.0   \n",
              "DayOfWeek                  844338.0     3.52     1.72     1.0     2.0     3.0   \n",
              "Sales                      844338.0  6955.96  3103.82    46.0  4859.0  6369.0   \n",
              "Customers                  844338.0   762.78   401.19     8.0   519.0   676.0   \n",
              "Promo                      844338.0     0.45     0.50     0.0     0.0     0.0   \n",
              "SchoolHoliday              844338.0     0.19     0.40     0.0     0.0     0.0   \n",
              "Year                       844338.0  2013.83     0.78  2013.0  2013.0  2014.0   \n",
              "Month                      844338.0     5.85     3.32     1.0     3.0     6.0   \n",
              "Day                        844338.0    15.84     8.68     1.0     8.0    16.0   \n",
              "WeekOfYear                 844338.0    23.65    14.39     1.0    11.0    23.0   \n",
              "CompetitionDistance        844338.0  5450.04  7801.08    20.0   710.0  2325.0   \n",
              "CompetitionOpenSinceMonth  844338.0     7.79     2.78     1.0     6.0     9.0   \n",
              "CompetitionOpenSinceYear   844338.0  2010.07     5.33  1900.0  2008.0  2012.0   \n",
              "Promo2                     844338.0     0.50     0.50     0.0     0.0     0.0   \n",
              "Promo2SinceWeek            844338.0    11.60    15.31     0.0     0.0     0.0   \n",
              "Promo2SinceYear            844338.0  1003.20  1005.87     0.0     0.0     0.0   \n",
              "\n",
              "                              75%      max  \n",
              "Store                       837.0   1115.0  \n",
              "DayOfWeek                     5.0      7.0  \n",
              "Sales                      8360.0  41551.0  \n",
              "Customers                   893.0   7388.0  \n",
              "Promo                         1.0      1.0  \n",
              "SchoolHoliday                 0.0      1.0  \n",
              "Year                       2014.0   2015.0  \n",
              "Month                         8.0     12.0  \n",
              "Day                          23.0     31.0  \n",
              "WeekOfYear                   35.0     52.0  \n",
              "CompetitionDistance        6880.0  75860.0  \n",
              "CompetitionOpenSinceMonth     9.0     12.0  \n",
              "CompetitionOpenSinceYear   2013.0   2015.0  \n",
              "Promo2                        1.0      1.0  \n",
              "Promo2SinceWeek              22.0     50.0  \n",
              "Promo2SinceYear            2012.0   2015.0  "
            ],
            "text/html": [
              "\n",
              "  <div id=\"df-ada4cb6e-0c59-43d1-af4b-06d85b0a1090\">\n",
              "    <div class=\"colab-df-container\">\n",
              "      <div>\n",
              "<style scoped>\n",
              "    .dataframe tbody tr th:only-of-type {\n",
              "        vertical-align: middle;\n",
              "    }\n",
              "\n",
              "    .dataframe tbody tr th {\n",
              "        vertical-align: top;\n",
              "    }\n",
              "\n",
              "    .dataframe thead th {\n",
              "        text-align: right;\n",
              "    }\n",
              "</style>\n",
              "<table border=\"1\" class=\"dataframe\">\n",
              "  <thead>\n",
              "    <tr style=\"text-align: right;\">\n",
              "      <th></th>\n",
              "      <th>count</th>\n",
              "      <th>mean</th>\n",
              "      <th>std</th>\n",
              "      <th>min</th>\n",
              "      <th>25%</th>\n",
              "      <th>50%</th>\n",
              "      <th>75%</th>\n",
              "      <th>max</th>\n",
              "    </tr>\n",
              "  </thead>\n",
              "  <tbody>\n",
              "    <tr>\n",
              "      <th>Store</th>\n",
              "      <td>844338.0</td>\n",
              "      <td>558.42</td>\n",
              "      <td>321.73</td>\n",
              "      <td>1.0</td>\n",
              "      <td>280.0</td>\n",
              "      <td>558.0</td>\n",
              "      <td>837.0</td>\n",
              "      <td>1115.0</td>\n",
              "    </tr>\n",
              "    <tr>\n",
              "      <th>DayOfWeek</th>\n",
              "      <td>844338.0</td>\n",
              "      <td>3.52</td>\n",
              "      <td>1.72</td>\n",
              "      <td>1.0</td>\n",
              "      <td>2.0</td>\n",
              "      <td>3.0</td>\n",
              "      <td>5.0</td>\n",
              "      <td>7.0</td>\n",
              "    </tr>\n",
              "    <tr>\n",
              "      <th>Sales</th>\n",
              "      <td>844338.0</td>\n",
              "      <td>6955.96</td>\n",
              "      <td>3103.82</td>\n",
              "      <td>46.0</td>\n",
              "      <td>4859.0</td>\n",
              "      <td>6369.0</td>\n",
              "      <td>8360.0</td>\n",
              "      <td>41551.0</td>\n",
              "    </tr>\n",
              "    <tr>\n",
              "      <th>Customers</th>\n",
              "      <td>844338.0</td>\n",
              "      <td>762.78</td>\n",
              "      <td>401.19</td>\n",
              "      <td>8.0</td>\n",
              "      <td>519.0</td>\n",
              "      <td>676.0</td>\n",
              "      <td>893.0</td>\n",
              "      <td>7388.0</td>\n",
              "    </tr>\n",
              "    <tr>\n",
              "      <th>Promo</th>\n",
              "      <td>844338.0</td>\n",
              "      <td>0.45</td>\n",
              "      <td>0.50</td>\n",
              "      <td>0.0</td>\n",
              "      <td>0.0</td>\n",
              "      <td>0.0</td>\n",
              "      <td>1.0</td>\n",
              "      <td>1.0</td>\n",
              "    </tr>\n",
              "    <tr>\n",
              "      <th>SchoolHoliday</th>\n",
              "      <td>844338.0</td>\n",
              "      <td>0.19</td>\n",
              "      <td>0.40</td>\n",
              "      <td>0.0</td>\n",
              "      <td>0.0</td>\n",
              "      <td>0.0</td>\n",
              "      <td>0.0</td>\n",
              "      <td>1.0</td>\n",
              "    </tr>\n",
              "    <tr>\n",
              "      <th>Year</th>\n",
              "      <td>844338.0</td>\n",
              "      <td>2013.83</td>\n",
              "      <td>0.78</td>\n",
              "      <td>2013.0</td>\n",
              "      <td>2013.0</td>\n",
              "      <td>2014.0</td>\n",
              "      <td>2014.0</td>\n",
              "      <td>2015.0</td>\n",
              "    </tr>\n",
              "    <tr>\n",
              "      <th>Month</th>\n",
              "      <td>844338.0</td>\n",
              "      <td>5.85</td>\n",
              "      <td>3.32</td>\n",
              "      <td>1.0</td>\n",
              "      <td>3.0</td>\n",
              "      <td>6.0</td>\n",
              "      <td>8.0</td>\n",
              "      <td>12.0</td>\n",
              "    </tr>\n",
              "    <tr>\n",
              "      <th>Day</th>\n",
              "      <td>844338.0</td>\n",
              "      <td>15.84</td>\n",
              "      <td>8.68</td>\n",
              "      <td>1.0</td>\n",
              "      <td>8.0</td>\n",
              "      <td>16.0</td>\n",
              "      <td>23.0</td>\n",
              "      <td>31.0</td>\n",
              "    </tr>\n",
              "    <tr>\n",
              "      <th>WeekOfYear</th>\n",
              "      <td>844338.0</td>\n",
              "      <td>23.65</td>\n",
              "      <td>14.39</td>\n",
              "      <td>1.0</td>\n",
              "      <td>11.0</td>\n",
              "      <td>23.0</td>\n",
              "      <td>35.0</td>\n",
              "      <td>52.0</td>\n",
              "    </tr>\n",
              "    <tr>\n",
              "      <th>CompetitionDistance</th>\n",
              "      <td>844338.0</td>\n",
              "      <td>5450.04</td>\n",
              "      <td>7801.08</td>\n",
              "      <td>20.0</td>\n",
              "      <td>710.0</td>\n",
              "      <td>2325.0</td>\n",
              "      <td>6880.0</td>\n",
              "      <td>75860.0</td>\n",
              "    </tr>\n",
              "    <tr>\n",
              "      <th>CompetitionOpenSinceMonth</th>\n",
              "      <td>844338.0</td>\n",
              "      <td>7.79</td>\n",
              "      <td>2.78</td>\n",
              "      <td>1.0</td>\n",
              "      <td>6.0</td>\n",
              "      <td>9.0</td>\n",
              "      <td>9.0</td>\n",
              "      <td>12.0</td>\n",
              "    </tr>\n",
              "    <tr>\n",
              "      <th>CompetitionOpenSinceYear</th>\n",
              "      <td>844338.0</td>\n",
              "      <td>2010.07</td>\n",
              "      <td>5.33</td>\n",
              "      <td>1900.0</td>\n",
              "      <td>2008.0</td>\n",
              "      <td>2012.0</td>\n",
              "      <td>2013.0</td>\n",
              "      <td>2015.0</td>\n",
              "    </tr>\n",
              "    <tr>\n",
              "      <th>Promo2</th>\n",
              "      <td>844338.0</td>\n",
              "      <td>0.50</td>\n",
              "      <td>0.50</td>\n",
              "      <td>0.0</td>\n",
              "      <td>0.0</td>\n",
              "      <td>0.0</td>\n",
              "      <td>1.0</td>\n",
              "      <td>1.0</td>\n",
              "    </tr>\n",
              "    <tr>\n",
              "      <th>Promo2SinceWeek</th>\n",
              "      <td>844338.0</td>\n",
              "      <td>11.60</td>\n",
              "      <td>15.31</td>\n",
              "      <td>0.0</td>\n",
              "      <td>0.0</td>\n",
              "      <td>0.0</td>\n",
              "      <td>22.0</td>\n",
              "      <td>50.0</td>\n",
              "    </tr>\n",
              "    <tr>\n",
              "      <th>Promo2SinceYear</th>\n",
              "      <td>844338.0</td>\n",
              "      <td>1003.20</td>\n",
              "      <td>1005.87</td>\n",
              "      <td>0.0</td>\n",
              "      <td>0.0</td>\n",
              "      <td>0.0</td>\n",
              "      <td>2012.0</td>\n",
              "      <td>2015.0</td>\n",
              "    </tr>\n",
              "  </tbody>\n",
              "</table>\n",
              "</div>\n",
              "      <button class=\"colab-df-convert\" onclick=\"convertToInteractive('df-ada4cb6e-0c59-43d1-af4b-06d85b0a1090')\"\n",
              "              title=\"Convert this dataframe to an interactive table.\"\n",
              "              style=\"display:none;\">\n",
              "        \n",
              "  <svg xmlns=\"http://www.w3.org/2000/svg\" height=\"24px\"viewBox=\"0 0 24 24\"\n",
              "       width=\"24px\">\n",
              "    <path d=\"M0 0h24v24H0V0z\" fill=\"none\"/>\n",
              "    <path d=\"M18.56 5.44l.94 2.06.94-2.06 2.06-.94-2.06-.94-.94-2.06-.94 2.06-2.06.94zm-11 1L8.5 8.5l.94-2.06 2.06-.94-2.06-.94L8.5 2.5l-.94 2.06-2.06.94zm10 10l.94 2.06.94-2.06 2.06-.94-2.06-.94-.94-2.06-.94 2.06-2.06.94z\"/><path d=\"M17.41 7.96l-1.37-1.37c-.4-.4-.92-.59-1.43-.59-.52 0-1.04.2-1.43.59L10.3 9.45l-7.72 7.72c-.78.78-.78 2.05 0 2.83L4 21.41c.39.39.9.59 1.41.59.51 0 1.02-.2 1.41-.59l7.78-7.78 2.81-2.81c.8-.78.8-2.07 0-2.86zM5.41 20L4 18.59l7.72-7.72 1.47 1.35L5.41 20z\"/>\n",
              "  </svg>\n",
              "      </button>\n",
              "      \n",
              "  <style>\n",
              "    .colab-df-container {\n",
              "      display:flex;\n",
              "      flex-wrap:wrap;\n",
              "      gap: 12px;\n",
              "    }\n",
              "\n",
              "    .colab-df-convert {\n",
              "      background-color: #E8F0FE;\n",
              "      border: none;\n",
              "      border-radius: 50%;\n",
              "      cursor: pointer;\n",
              "      display: none;\n",
              "      fill: #1967D2;\n",
              "      height: 32px;\n",
              "      padding: 0 0 0 0;\n",
              "      width: 32px;\n",
              "    }\n",
              "\n",
              "    .colab-df-convert:hover {\n",
              "      background-color: #E2EBFA;\n",
              "      box-shadow: 0px 1px 2px rgba(60, 64, 67, 0.3), 0px 1px 3px 1px rgba(60, 64, 67, 0.15);\n",
              "      fill: #174EA6;\n",
              "    }\n",
              "\n",
              "    [theme=dark] .colab-df-convert {\n",
              "      background-color: #3B4455;\n",
              "      fill: #D2E3FC;\n",
              "    }\n",
              "\n",
              "    [theme=dark] .colab-df-convert:hover {\n",
              "      background-color: #434B5C;\n",
              "      box-shadow: 0px 1px 3px 1px rgba(0, 0, 0, 0.15);\n",
              "      filter: drop-shadow(0px 1px 2px rgba(0, 0, 0, 0.3));\n",
              "      fill: #FFFFFF;\n",
              "    }\n",
              "  </style>\n",
              "\n",
              "      <script>\n",
              "        const buttonEl =\n",
              "          document.querySelector('#df-ada4cb6e-0c59-43d1-af4b-06d85b0a1090 button.colab-df-convert');\n",
              "        buttonEl.style.display =\n",
              "          google.colab.kernel.accessAllowed ? 'block' : 'none';\n",
              "\n",
              "        async function convertToInteractive(key) {\n",
              "          const element = document.querySelector('#df-ada4cb6e-0c59-43d1-af4b-06d85b0a1090');\n",
              "          const dataTable =\n",
              "            await google.colab.kernel.invokeFunction('convertToInteractive',\n",
              "                                                     [key], {});\n",
              "          if (!dataTable) return;\n",
              "\n",
              "          const docLinkHtml = 'Like what you see? Visit the ' +\n",
              "            '<a target=\"_blank\" href=https://colab.research.google.com/notebooks/data_table.ipynb>data table notebook</a>'\n",
              "            + ' to learn more about interactive tables.';\n",
              "          element.innerHTML = '';\n",
              "          dataTable['output_type'] = 'display_data';\n",
              "          await google.colab.output.renderOutput(dataTable, element);\n",
              "          const docLink = document.createElement('div');\n",
              "          docLink.innerHTML = docLinkHtml;\n",
              "          element.appendChild(docLink);\n",
              "        }\n",
              "      </script>\n",
              "    </div>\n",
              "  </div>\n",
              "  "
            ]
          },
          "metadata": {},
          "execution_count": 128
        }
      ],
      "source": [
        "dfd.describe().round(2).T"
      ]
    },
    {
      "cell_type": "code",
      "execution_count": 129,
      "metadata": {
        "colab": {
          "base_uri": "https://localhost:8080/"
        },
        "id": "Uq66IyDzdHzG",
        "outputId": "55240873-0d21-44fe-a8d9-df8f500f83e3"
      },
      "outputs": [
        {
          "output_type": "stream",
          "name": "stdout",
          "text": [
            "<class 'pandas.core.frame.DataFrame'>\n",
            "Int64Index: 844338 entries, 0 to 1017190\n",
            "Data columns (total 21 columns):\n",
            " #   Column                     Non-Null Count   Dtype         \n",
            "---  ------                     --------------   -----         \n",
            " 0   Date                       844338 non-null  datetime64[ns]\n",
            " 1   Store                      844338 non-null  int64         \n",
            " 2   DayOfWeek                  844338 non-null  int64         \n",
            " 3   Sales                      844338 non-null  int64         \n",
            " 4   Customers                  844338 non-null  int64         \n",
            " 5   Promo                      844338 non-null  int64         \n",
            " 6   StateHoliday               844338 non-null  object        \n",
            " 7   SchoolHoliday              844338 non-null  int64         \n",
            " 8   Year                       844338 non-null  int64         \n",
            " 9   Month                      844338 non-null  int64         \n",
            " 10  Day                        844338 non-null  int64         \n",
            " 11  WeekOfYear                 844338 non-null  int64         \n",
            " 12  StoreType                  844338 non-null  object        \n",
            " 13  Assortment                 844338 non-null  object        \n",
            " 14  CompetitionDistance        844338 non-null  float64       \n",
            " 15  CompetitionOpenSinceMonth  844338 non-null  int64         \n",
            " 16  CompetitionOpenSinceYear   844338 non-null  int64         \n",
            " 17  Promo2                     844338 non-null  int64         \n",
            " 18  Promo2SinceWeek            844338 non-null  int64         \n",
            " 19  Promo2SinceYear            844338 non-null  int64         \n",
            " 20  PromoInterval              844338 non-null  object        \n",
            "dtypes: datetime64[ns](1), float64(1), int64(15), object(4)\n",
            "memory usage: 141.7+ MB\n"
          ]
        }
      ],
      "source": [
        "dfd.info()"
      ]
    },
    {
      "cell_type": "code",
      "execution_count": 130,
      "metadata": {
        "colab": {
          "base_uri": "https://localhost:8080/"
        },
        "id": "CL3OTCXMdo4f",
        "outputId": "11c3a939-24d2-4e63-deac-6afb7a90e6b5"
      },
      "outputs": [
        {
          "output_type": "execute_result",
          "data": {
            "text/plain": [
              "({0, '0', 'a', 'b', 'c'},\n",
              " {'a', 'b', 'c', 'd'},\n",
              " {'a', 'b', 'c'},\n",
              " {0, 'Feb,May,Aug,Nov', 'Jan,Apr,Jul,Oct', 'Mar,Jun,Sept,Dec'})"
            ]
          },
          "metadata": {},
          "execution_count": 130
        }
      ],
      "source": [
        "# Nominal Variales\n",
        "set(dfd.StateHoliday), set(dfd.StoreType), set(dfd.Assortment), set(dfd.PromoInterval)"
      ]
    },
    {
      "cell_type": "code",
      "execution_count": 131,
      "metadata": {
        "id": "rWyiCy1EeBO2"
      },
      "outputs": [],
      "source": [
        "# Converting number 0 to string 0 in StateHoliday column\n",
        "dfd.loc[dfd.StateHoliday == 0,'StateHoliday'] = dfd.loc[dfd.StateHoliday == 0,'StateHoliday'].astype(str)"
      ]
    },
    {
      "cell_type": "code",
      "execution_count": 132,
      "metadata": {
        "id": "uzq-yxeeDCwC"
      },
      "outputs": [],
      "source": [
        "# Converting number 0 to string 0 in StateHoliday column\n",
        "dfd.loc[dfd.PromoInterval == 0,'PromoInterval'] = dfd.loc[dfd.PromoInterval == '0','PromoInterval'].astype(str)"
      ]
    },
    {
      "cell_type": "code",
      "execution_count": 133,
      "metadata": {
        "colab": {
          "base_uri": "https://localhost:8080/",
          "height": 312
        },
        "id": "zQncWYWh7P4V",
        "outputId": "d62d066a-48f2-4c2b-cd6f-18263ed1fcef"
      },
      "outputs": [
        {
          "output_type": "execute_result",
          "data": {
            "text/plain": [
              "[Text(0.5, 1.0, 'Sales vs StateHoliday')]"
            ]
          },
          "metadata": {},
          "execution_count": 133
        },
        {
          "output_type": "display_data",
          "data": {
            "text/plain": [
              "<Figure size 432x288 with 1 Axes>"
            ],
            "image/png": "[encoded data removed]"
          },
          "metadata": {
            "needs_background": "light"
          }
        }
      ],
      "source": [
        "sns.barplot(x='StateHoliday', y='Sales', data=dfd).set(title='Sales vs StateHoliday')"
      ]
    },
    {
      "cell_type": "code",
      "execution_count": 134,
      "metadata": {
        "colab": {
          "base_uri": "https://localhost:8080/",
          "height": 386
        },
        "id": "DI6lQ-X5CYnk",
        "outputId": "eb557ca0-d0dd-42a9-f7b6-296b55ea9d8a"
      },
      "outputs": [
        {
          "output_type": "execute_result",
          "data": {
            "text/plain": [
              "        Date  Store  DayOfWeek  Sales  Customers  Promo  StateHoliday  \\\n",
              "0 2015-07-31      1          5   5263        555      1             0   \n",
              "1 2015-07-31      2          5   6064        625      1             0   \n",
              "2 2015-07-31      3          5   8314        821      1             0   \n",
              "3 2015-07-31      4          5  13995       1498      1             0   \n",
              "4 2015-07-31      5          5   4822        559      1             0   \n",
              "\n",
              "   SchoolHoliday  Year  Month  ...  WeekOfYear  StoreType  Assortment  \\\n",
              "0              1  2015      7  ...          31          2           0   \n",
              "1              1  2015      7  ...          31          0           0   \n",
              "2              1  2015      7  ...          31          0           0   \n",
              "3              1  2015      7  ...          31          2           2   \n",
              "4              1  2015      7  ...          31          0           0   \n",
              "\n",
              "   CompetitionDistance  CompetitionOpenSinceMonth  CompetitionOpenSinceYear  \\\n",
              "0               1270.0                          9                      2008   \n",
              "1                570.0                         11                      2007   \n",
              "2              14130.0                         12                      2006   \n",
              "3                620.0                          9                      2009   \n",
              "4              29910.0                          4                      2015   \n",
              "\n",
              "   Promo2  Promo2SinceWeek  Promo2SinceYear  PromoInterval  \n",
              "0       0                0                0              3  \n",
              "1       1               13             2010              1  \n",
              "2       1               14             2011              1  \n",
              "3       0                0                0              3  \n",
              "4       0                0                0              3  \n",
              "\n",
              "[5 rows x 21 columns]"
            ],
            "text/html": [
              "\n",
              "  <div id=\"df-1d8d5ab3-31d3-4051-acdd-336d09ae94d4\">\n",
              "    <div class=\"colab-df-container\">\n",
              "      <div>\n",
              "<style scoped>\n",
              "    .dataframe tbody tr th:only-of-type {\n",
              "        vertical-align: middle;\n",
              "    }\n",
              "\n",
              "    .dataframe tbody tr th {\n",
              "        vertical-align: top;\n",
              "    }\n",
              "\n",
              "    .dataframe thead th {\n",
              "        text-align: right;\n",
              "    }\n",
              "</style>\n",
              "<table border=\"1\" class=\"dataframe\">\n",
              "  <thead>\n",
              "    <tr style=\"text-align: right;\">\n",
              "      <th></th>\n",
              "      <th>Date</th>\n",
              "      <th>Store</th>\n",
              "      <th>DayOfWeek</th>\n",
              "      <th>Sales</th>\n",
              "      <th>Customers</th>\n",
              "      <th>Promo</th>\n",
              "      <th>StateHoliday</th>\n",
              "      <th>SchoolHoliday</th>\n",
              "      <th>Year</th>\n",
              "      <th>Month</th>\n",
              "      <th>...</th>\n",
              "      <th>WeekOfYear</th>\n",
              "      <th>StoreType</th>\n",
              "      <th>Assortment</th>\n",
              "      <th>CompetitionDistance</th>\n",
              "      <th>CompetitionOpenSinceMonth</th>\n",
              "      <th>CompetitionOpenSinceYear</th>\n",
              "      <th>Promo2</th>\n",
              "      <th>Promo2SinceWeek</th>\n",
              "      <th>Promo2SinceYear</th>\n",
              "      <th>PromoInterval</th>\n",
              "    </tr>\n",
              "  </thead>\n",
              "  <tbody>\n",
              "    <tr>\n",
              "      <th>0</th>\n",
              "      <td>2015-07-31</td>\n",
              "      <td>1</td>\n",
              "      <td>5</td>\n",
              "      <td>5263</td>\n",
              "      <td>555</td>\n",
              "      <td>1</td>\n",
              "      <td>0</td>\n",
              "      <td>1</td>\n",
              "      <td>2015</td>\n",
              "      <td>7</td>\n",
              "      <td>...</td>\n",
              "      <td>31</td>\n",
              "      <td>2</td>\n",
              "      <td>0</td>\n",
              "      <td>1270.0</td>\n",
              "      <td>9</td>\n",
              "      <td>2008</td>\n",
              "      <td>0</td>\n",
              "      <td>0</td>\n",
              "      <td>0</td>\n",
              "      <td>3</td>\n",
              "    </tr>\n",
              "    <tr>\n",
              "      <th>1</th>\n",
              "      <td>2015-07-31</td>\n",
              "      <td>2</td>\n",
              "      <td>5</td>\n",
              "      <td>6064</td>\n",
              "      <td>625</td>\n",
              "      <td>1</td>\n",
              "      <td>0</td>\n",
              "      <td>1</td>\n",
              "      <td>2015</td>\n",
              "      <td>7</td>\n",
              "      <td>...</td>\n",
              "      <td>31</td>\n",
              "      <td>0</td>\n",
              "      <td>0</td>\n",
              "      <td>570.0</td>\n",
              "      <td>11</td>\n",
              "      <td>2007</td>\n",
              "      <td>1</td>\n",
              "      <td>13</td>\n",
              "      <td>2010</td>\n",
              "      <td>1</td>\n",
              "    </tr>\n",
              "    <tr>\n",
              "      <th>2</th>\n",
              "      <td>2015-07-31</td>\n",
              "      <td>3</td>\n",
              "      <td>5</td>\n",
              "      <td>8314</td>\n",
              "      <td>821</td>\n",
              "      <td>1</td>\n",
              "      <td>0</td>\n",
              "      <td>1</td>\n",
              "      <td>2015</td>\n",
              "      <td>7</td>\n",
              "      <td>...</td>\n",
              "      <td>31</td>\n",
              "      <td>0</td>\n",
              "      <td>0</td>\n",
              "      <td>14130.0</td>\n",
              "      <td>12</td>\n",
              "      <td>2006</td>\n",
              "      <td>1</td>\n",
              "      <td>14</td>\n",
              "      <td>2011</td>\n",
              "      <td>1</td>\n",
              "    </tr>\n",
              "    <tr>\n",
              "      <th>3</th>\n",
              "      <td>2015-07-31</td>\n",
              "      <td>4</td>\n",
              "      <td>5</td>\n",
              "      <td>13995</td>\n",
              "      <td>1498</td>\n",
              "      <td>1</td>\n",
              "      <td>0</td>\n",
              "      <td>1</td>\n",
              "      <td>2015</td>\n",
              "      <td>7</td>\n",
              "      <td>...</td>\n",
              "      <td>31</td>\n",
              "      <td>2</td>\n",
              "      <td>2</td>\n",
              "      <td>620.0</td>\n",
              "      <td>9</td>\n",
              "      <td>2009</td>\n",
              "      <td>0</td>\n",
              "      <td>0</td>\n",
              "      <td>0</td>\n",
              "      <td>3</td>\n",
              "    </tr>\n",
              "    <tr>\n",
              "      <th>4</th>\n",
              "      <td>2015-07-31</td>\n",
              "      <td>5</td>\n",
              "      <td>5</td>\n",
              "      <td>4822</td>\n",
              "      <td>559</td>\n",
              "      <td>1</td>\n",
              "      <td>0</td>\n",
              "      <td>1</td>\n",
              "      <td>2015</td>\n",
              "      <td>7</td>\n",
              "      <td>...</td>\n",
              "      <td>31</td>\n",
              "      <td>0</td>\n",
              "      <td>0</td>\n",
              "      <td>29910.0</td>\n",
              "      <td>4</td>\n",
              "      <td>2015</td>\n",
              "      <td>0</td>\n",
              "      <td>0</td>\n",
              "      <td>0</td>\n",
              "      <td>3</td>\n",
              "    </tr>\n",
              "  </tbody>\n",
              "</table>\n",
              "<p>5 rows × 21 columns</p>\n",
              "</div>\n",
              "      <button class=\"colab-df-convert\" onclick=\"convertToInteractive('df-1d8d5ab3-31d3-4051-acdd-336d09ae94d4')\"\n",
              "              title=\"Convert this dataframe to an interactive table.\"\n",
              "              style=\"display:none;\">\n",
              "        \n",
              "  <svg xmlns=\"http://www.w3.org/2000/svg\" height=\"24px\"viewBox=\"0 0 24 24\"\n",
              "       width=\"24px\">\n",
              "    <path d=\"M0 0h24v24H0V0z\" fill=\"none\"/>\n",
              "    <path d=\"M18.56 5.44l.94 2.06.94-2.06 2.06-.94-2.06-.94-.94-2.06-.94 2.06-2.06.94zm-11 1L8.5 8.5l.94-2.06 2.06-.94-2.06-.94L8.5 2.5l-.94 2.06-2.06.94zm10 10l.94 2.06.94-2.06 2.06-.94-2.06-.94-.94-2.06-.94 2.06-2.06.94z\"/><path d=\"M17.41 7.96l-1.37-1.37c-.4-.4-.92-.59-1.43-.59-.52 0-1.04.2-1.43.59L10.3 9.45l-7.72 7.72c-.78.78-.78 2.05 0 2.83L4 21.41c.39.39.9.59 1.41.59.51 0 1.02-.2 1.41-.59l7.78-7.78 2.81-2.81c.8-.78.8-2.07 0-2.86zM5.41 20L4 18.59l7.72-7.72 1.47 1.35L5.41 20z\"/>\n",
              "  </svg>\n",
              "      </button>\n",
              "      \n",
              "  <style>\n",
              "    .colab-df-container {\n",
              "      display:flex;\n",
              "      flex-wrap:wrap;\n",
              "      gap: 12px;\n",
              "    }\n",
              "\n",
              "    .colab-df-convert {\n",
              "      background-color: #E8F0FE;\n",
              "      border: none;\n",
              "      border-radius: 50%;\n",
              "      cursor: pointer;\n",
              "      display: none;\n",
              "      fill: #1967D2;\n",
              "      height: 32px;\n",
              "      padding: 0 0 0 0;\n",
              "      width: 32px;\n",
              "    }\n",
              "\n",
              "    .colab-df-convert:hover {\n",
              "      background-color: #E2EBFA;\n",
              "      box-shadow: 0px 1px 2px rgba(60, 64, 67, 0.3), 0px 1px 3px 1px rgba(60, 64, 67, 0.15);\n",
              "      fill: #174EA6;\n",
              "    }\n",
              "\n",
              "    [theme=dark] .colab-df-convert {\n",
              "      background-color: #3B4455;\n",
              "      fill: #D2E3FC;\n",
              "    }\n",
              "\n",
              "    [theme=dark] .colab-df-convert:hover {\n",
              "      background-color: #434B5C;\n",
              "      box-shadow: 0px 1px 3px 1px rgba(0, 0, 0, 0.15);\n",
              "      filter: drop-shadow(0px 1px 2px rgba(0, 0, 0, 0.3));\n",
              "      fill: #FFFFFF;\n",
              "    }\n",
              "  </style>\n",
              "\n",
              "      <script>\n",
              "        const buttonEl =\n",
              "          document.querySelector('#df-1d8d5ab3-31d3-4051-acdd-336d09ae94d4 button.colab-df-convert');\n",
              "        buttonEl.style.display =\n",
              "          google.colab.kernel.accessAllowed ? 'block' : 'none';\n",
              "\n",
              "        async function convertToInteractive(key) {\n",
              "          const element = document.querySelector('#df-1d8d5ab3-31d3-4051-acdd-336d09ae94d4');\n",
              "          const dataTable =\n",
              "            await google.colab.kernel.invokeFunction('convertToInteractive',\n",
              "                                                     [key], {});\n",
              "          if (!dataTable) return;\n",
              "\n",
              "          const docLinkHtml = 'Like what you see? Visit the ' +\n",
              "            '<a target=\"_blank\" href=https://colab.research.google.com/notebooks/data_table.ipynb>data table notebook</a>'\n",
              "            + ' to learn more about interactive tables.';\n",
              "          element.innerHTML = '';\n",
              "          dataTable['output_type'] = 'display_data';\n",
              "          await google.colab.output.renderOutput(dataTable, element);\n",
              "          const docLink = document.createElement('div');\n",
              "          docLink.innerHTML = docLinkHtml;\n",
              "          element.appendChild(docLink);\n",
              "        }\n",
              "      </script>\n",
              "    </div>\n",
              "  </div>\n",
              "  "
            ]
          },
          "metadata": {},
          "execution_count": 134
        }
      ],
      "source": [
        "# Encoding all categorical varibale to numeric values\n",
        "from sklearn.preprocessing import LabelEncoder\n",
        "label_encoder = LabelEncoder()\n",
        "\n",
        "dfd['StoreType'] = label_encoder.fit_transform(dfd['StoreType'])\n",
        "dfd['Assortment'] = label_encoder.fit_transform(dfd['Assortment'])\n",
        "dfd['StateHoliday'] = label_encoder.fit_transform(dfd['StateHoliday'])\n",
        "dfd['PromoInterval'] = label_encoder.fit_transform(dfd['PromoInterval'])\n",
        "\n",
        "dfd.head()"
      ]
    },
    {
      "cell_type": "code",
      "execution_count": 135,
      "metadata": {
        "colab": {
          "base_uri": "https://localhost:8080/"
        },
        "id": "1PaGyknBF2oI",
        "outputId": "6eb9b6e2-690e-48b4-cb0a-7126c2c2c431"
      },
      "outputs": [
        {
          "output_type": "execute_result",
          "data": {
            "text/plain": [
              "Index(['Date', 'Store', 'DayOfWeek', 'Sales', 'Customers', 'Promo',\n",
              "       'StateHoliday', 'SchoolHoliday', 'Year', 'Month', 'Day', 'WeekOfYear',\n",
              "       'StoreType', 'Assortment', 'CompetitionDistance',\n",
              "       'CompetitionOpenSinceMonth', 'CompetitionOpenSinceYear', 'Promo2',\n",
              "       'Promo2SinceWeek', 'Promo2SinceYear', 'PromoInterval'],\n",
              "      dtype='object')"
            ]
          },
          "metadata": {},
          "execution_count": 135
        }
      ],
      "source": [
        "dfd.columns"
      ]
    },
    {
      "cell_type": "code",
      "execution_count": 136,
      "metadata": {
        "colab": {
          "base_uri": "https://localhost:8080/"
        },
        "id": "mQClwSa7Ex5e",
        "outputId": "0ddd147d-7248-4d7f-f257-9f8e00d90000"
      },
      "outputs": [
        {
          "output_type": "stream",
          "name": "stdout",
          "text": [
            "<class 'pandas.core.frame.DataFrame'>\n",
            "Int64Index: 844338 entries, 0 to 1017190\n",
            "Data columns (total 21 columns):\n",
            " #   Column                     Non-Null Count   Dtype         \n",
            "---  ------                     --------------   -----         \n",
            " 0   Date                       844338 non-null  datetime64[ns]\n",
            " 1   Store                      844338 non-null  int64         \n",
            " 2   DayOfWeek                  844338 non-null  int64         \n",
            " 3   Sales                      844338 non-null  int64         \n",
            " 4   Customers                  844338 non-null  int64         \n",
            " 5   Promo                      844338 non-null  int64         \n",
            " 6   StateHoliday               844338 non-null  int64         \n",
            " 7   SchoolHoliday              844338 non-null  int64         \n",
            " 8   Year                       844338 non-null  int64         \n",
            " 9   Month                      844338 non-null  int64         \n",
            " 10  Day                        844338 non-null  int64         \n",
            " 11  WeekOfYear                 844338 non-null  int64         \n",
            " 12  StoreType                  844338 non-null  int64         \n",
            " 13  Assortment                 844338 non-null  int64         \n",
            " 14  CompetitionDistance        844338 non-null  float64       \n",
            " 15  CompetitionOpenSinceMonth  844338 non-null  int64         \n",
            " 16  CompetitionOpenSinceYear   844338 non-null  int64         \n",
            " 17  Promo2                     844338 non-null  int64         \n",
            " 18  Promo2SinceWeek            844338 non-null  int64         \n",
            " 19  Promo2SinceYear            844338 non-null  int64         \n",
            " 20  PromoInterval              844338 non-null  int64         \n",
            "dtypes: datetime64[ns](1), float64(1), int64(19)\n",
            "memory usage: 174.0 MB\n"
          ]
        }
      ],
      "source": [
        "dfd.info()"
      ]
    },
    {
      "cell_type": "markdown",
      "metadata": {
        "id": "H-XYMqkuj-x7"
      },
      "source": [
        "## **Rossmann Sales Prediction - ML Model Building**"
      ]
    },
    {
      "cell_type": "markdown",
      "metadata": {
        "id": "JVK9IthblT95"
      },
      "source": [
        "- This ML Model will predict sales only on stores which are open and when there is some sales because there is no sales when store is closed."
      ]
    },
    {
      "cell_type": "code",
      "execution_count": 137,
      "metadata": {
        "id": "9LjYJMWbHXDM"
      },
      "outputs": [],
      "source": [
        "from scipy.stats import zscore\n",
        "from sklearn.linear_model import Lasso, Ridge\n",
        "from sklearn.model_selection import train_test_split\n",
        "from sklearn.preprocessing import StandardScaler\n",
        "from sklearn.linear_model import LinearRegression\n",
        "from sklearn.pipeline import Pipeline\n",
        "from sklearn.tree import DecisionTreeRegressor\n",
        "from sklearn.metrics import r2_score as r2, mean_squared_error as mse\n",
        "import math\n",
        "from sklearn.ensemble import RandomForestRegressor\n",
        "import lightgbm as lgb\n",
        "from sklearn.metrics import r2_score\n",
        "from sklearn.metrics import confusion_matrix,classification_report"
      ]
    },
    {
      "cell_type": "code",
      "execution_count": 138,
      "metadata": {
        "id": "X3ICTsgHFYu1"
      },
      "outputs": [],
      "source": [
        "# Defining Dependent Variable\n",
        "dependent_variable = 'Sales'\n",
        "# Defining Independent Varibale\n",
        "independent_variables = list(dfd.columns.drop(['Date','Sales','Store']))"
      ]
    },
    {
      "cell_type": "code",
      "execution_count": 139,
      "metadata": {
        "colab": {
          "base_uri": "https://localhost:8080/"
        },
        "id": "KNSRY6BbHOF5",
        "outputId": "20a5a175-afe2-46f3-a17c-97c7f83d03c8"
      },
      "outputs": [
        {
          "output_type": "execute_result",
          "data": {
            "text/plain": [
              "['DayOfWeek',\n",
              " 'Customers',\n",
              " 'Promo',\n",
              " 'StateHoliday',\n",
              " 'SchoolHoliday',\n",
              " 'Year',\n",
              " 'Month',\n",
              " 'Day',\n",
              " 'WeekOfYear',\n",
              " 'StoreType',\n",
              " 'Assortment',\n",
              " 'CompetitionDistance',\n",
              " 'CompetitionOpenSinceMonth',\n",
              " 'CompetitionOpenSinceYear',\n",
              " 'Promo2',\n",
              " 'Promo2SinceWeek',\n",
              " 'Promo2SinceYear',\n",
              " 'PromoInterval']"
            ]
          },
          "metadata": {},
          "execution_count": 139
        }
      ],
      "source": [
        "independent_variables"
      ]
    },
    {
      "cell_type": "code",
      "execution_count": 140,
      "metadata": {
        "id": "8wSa83KGHVlN"
      },
      "outputs": [],
      "source": [
        "# Creating the data of independent variables\n",
        "X = dfd[independent_variables].values\n",
        "\n",
        "# Creating the data of dependent variable\n",
        "y = dfd[dependent_variable].values"
      ]
    },
    {
      "cell_type": "code",
      "execution_count": 141,
      "metadata": {
        "colab": {
          "base_uri": "https://localhost:8080/"
        },
        "id": "6cCDkoQUHvar",
        "outputId": "f5fb700b-db4c-405b-f26b-72a122dfcda5"
      },
      "outputs": [
        {
          "output_type": "stream",
          "name": "stdout",
          "text": [
            "(675470, 18)\n",
            "(168868, 18)\n"
          ]
        }
      ],
      "source": [
        "# Splitting the Dataset into Test and Train\n",
        "X_train, X_test, y_train, y_test = train_test_split(X, y, test_size=0.2, random_state = 0)\n",
        "print(X_train.shape)\n",
        "print(X_test.shape)"
      ]
    },
    {
      "cell_type": "markdown",
      "metadata": {
        "id": "6zO6U23bFHUv"
      },
      "source": [
        "### **Model - 1 - Linear Regression**"
      ]
    },
    {
      "cell_type": "code",
      "execution_count": 142,
      "metadata": {
        "colab": {
          "base_uri": "https://localhost:8080/"
        },
        "id": "BKsz_r8mkE_m",
        "outputId": "aadfcb8a-7e6e-4892-fa71-ac1456b23474"
      },
      "outputs": [
        {
          "output_type": "execute_result",
          "data": {
            "text/plain": [
              "LinearRegression()"
            ]
          },
          "metadata": {},
          "execution_count": 142
        }
      ],
      "source": [
        "# Fitting Multiple Linear Regression to the Training set\n",
        "# Formation of equation\n",
        "regressor = LinearRegression()\n",
        "regressor.fit(X_train, y_train)"
      ]
    },
    {
      "cell_type": "code",
      "execution_count": 143,
      "metadata": {
        "colab": {
          "base_uri": "https://localhost:8080/"
        },
        "id": "yEDupNQVzQ0s",
        "outputId": "78c89668-f363-48d9-b8c0-e6621be02893"
      },
      "outputs": [
        {
          "output_type": "execute_result",
          "data": {
            "text/plain": [
              "-345128.7246962925"
            ]
          },
          "metadata": {},
          "execution_count": 143
        }
      ],
      "source": [
        "# Intercept of equation\n",
        "regressor.intercept_"
      ]
    },
    {
      "cell_type": "code",
      "execution_count": 144,
      "metadata": {
        "colab": {
          "base_uri": "https://localhost:8080/"
        },
        "id": "1mnZxWNY0BSz",
        "outputId": "90775c34-0fd3-4809-a07b-975ef2c28f78"
      },
      "outputs": [
        {
          "output_type": "execute_result",
          "data": {
            "text/plain": [
              "array([-6.68250445e+01,  6.36639925e+00,  1.28927404e+03, -1.29655171e+03,\n",
              "        3.73208586e+01,  1.76164646e+02,  4.83488362e+01,  1.26350928e+00,\n",
              "       -2.01507690e+00,  2.72825866e+02,  2.16569624e+02,  2.83537985e-02,\n",
              "       -1.34633742e+01, -4.25686165e+00,  1.24371840e+05,  1.01443774e+01,\n",
              "       -6.19162081e+01, -9.33297059e+01])"
            ]
          },
          "metadata": {},
          "execution_count": 144
        }
      ],
      "source": [
        "# Coefficients OR Model parameters of equation\n",
        "regressor.coef_"
      ]
    },
    {
      "cell_type": "code",
      "execution_count": 145,
      "metadata": {
        "id": "Pwbit9-t00uG"
      },
      "outputs": [],
      "source": [
        "# Predicting the Train set results\n",
        "y_pred_train = regressor.predict(X_train)"
      ]
    },
    {
      "cell_type": "code",
      "execution_count": 146,
      "metadata": {
        "id": "s2mfS2G01yk7"
      },
      "outputs": [],
      "source": [
        "# Predicting the Test set results\n",
        "y_pred_test = regressor.predict(X_test)"
      ]
    },
    {
      "cell_type": "code",
      "execution_count": 172,
      "metadata": {
        "colab": {
          "base_uri": "https://localhost:8080/"
        },
        "id": "dFbQYqrd1yyS",
        "outputId": "1dda42a0-4927-42d9-b91e-7bb9f423e0ef"
      },
      "outputs": [
        {
          "output_type": "stream",
          "name": "stdout",
          "text": [
            "MSE : 2307761.5772518045\n",
            "RMSE : 1519.1318498576102\n",
            "R2 : 0.7611592650795743\n"
          ]
        }
      ],
      "source": [
        "# Test performance\n",
        "from sklearn.metrics import mean_squared_error\n",
        "from sklearn.metrics import r2_score\n",
        "\n",
        "MSE  = mean_squared_error(y_test, y_pred_test)\n",
        "print(\"MSE :\" , MSE)\n",
        "\n",
        "RMSE = np.sqrt(MSE)\n",
        "print(\"RMSE :\" ,RMSE)\n",
        "\n",
        "r2 = r2_score(y_test, y_pred_test)\n",
        "print(\"R2 :\" ,r2)"
      ]
    },
    {
      "cell_type": "code",
      "execution_count": 149,
      "metadata": {
        "colab": {
          "base_uri": "https://localhost:8080/",
          "height": 623
        },
        "id": "O0hm2JPR5R9Q",
        "outputId": "cf2042ce-2c6e-4e66-92da-504de271d058"
      },
      "outputs": [
        {
          "output_type": "execute_result",
          "data": {
            "text/plain": [
              "Text(0, 0.5, 'Predicted values')"
            ]
          },
          "metadata": {},
          "execution_count": 149
        },
        {
          "output_type": "display_data",
          "data": {
            "text/plain": [
              "<Figure size 720x720 with 1 Axes>"
            ],
            "image/png": "[encoded data removed]"
          },
          "metadata": {
            "needs_background": "light"
          }
        }
      ],
      "source": [
        "plt.figure(figsize=(10,10))\n",
        "plt.scatter(y_test,y_pred_test)\n",
        "\n",
        "p1 = max(max(y_pred_test),max(y_test))\n",
        "p2 = min(min(y_pred_test),min(y_test))\n",
        "plt.plot([p1,p2],[p1,p2],c='r')\n",
        "plt.xlabel('Actual values')\n",
        "plt.ylabel('Predicted values')"
      ]
    },
    {
      "cell_type": "markdown",
      "metadata": {
        "id": "cyY-Bvhm29mi"
      },
      "source": [
        "### **Model - 2 - Lasso Regression (L1)**"
      ]
    },
    {
      "cell_type": "code",
      "execution_count": 150,
      "metadata": {
        "id": "4HvkZOsP2Yqb"
      },
      "outputs": [],
      "source": [
        "lasso = Lasso(alpha = 0.2, max_iter=10000)"
      ]
    },
    {
      "cell_type": "code",
      "execution_count": 151,
      "metadata": {
        "colab": {
          "base_uri": "https://localhost:8080/"
        },
        "id": "7XotpF6I3Jpy",
        "outputId": "b2c22c21-e430-41e0-d31b-7cd1f4b4e7cf"
      },
      "outputs": [
        {
          "output_type": "execute_result",
          "data": {
            "text/plain": [
              "Lasso(alpha=0.2, max_iter=10000)"
            ]
          },
          "metadata": {},
          "execution_count": 151
        }
      ],
      "source": [
        "lasso.fit(X_train, y_train)"
      ]
    },
    {
      "cell_type": "code",
      "execution_count": 152,
      "metadata": {
        "id": "hi7-JiJb3P6X"
      },
      "outputs": [],
      "source": [
        "y_pred_lasso = lasso.predict(X_test)"
      ]
    },
    {
      "cell_type": "code",
      "execution_count": 153,
      "metadata": {
        "colab": {
          "base_uri": "https://localhost:8080/"
        },
        "id": "acJF0k2E3Tc1",
        "outputId": "89a6a109-e405-451b-8160-a83a6b2b1613"
      },
      "outputs": [
        {
          "output_type": "execute_result",
          "data": {
            "text/plain": [
              "0.7606908289265699"
            ]
          },
          "metadata": {},
          "execution_count": 153
        }
      ],
      "source": [
        "lasso.score(X_test, y_test)"
      ]
    },
    {
      "cell_type": "markdown",
      "metadata": {
        "id": "MqGjr0Ij3fbh"
      },
      "source": [
        "### **Model - 3 - Ridge Regression (L2)**"
      ]
    },
    {
      "cell_type": "code",
      "execution_count": 154,
      "metadata": {
        "id": "Z3O5tcCr3Wme"
      },
      "outputs": [],
      "source": [
        "ridge = Ridge(alpha = 0.5)"
      ]
    },
    {
      "cell_type": "code",
      "execution_count": 155,
      "metadata": {
        "colab": {
          "base_uri": "https://localhost:8080/"
        },
        "id": "1x08T81_3wxN",
        "outputId": "acd153a5-334f-421e-db14-4246b3ca8704"
      },
      "outputs": [
        {
          "output_type": "execute_result",
          "data": {
            "text/plain": [
              "Ridge(alpha=0.5)"
            ]
          },
          "metadata": {},
          "execution_count": 155
        }
      ],
      "source": [
        "ridge.fit(X_train, y_train)"
      ]
    },
    {
      "cell_type": "code",
      "execution_count": 156,
      "metadata": {
        "colab": {
          "base_uri": "https://localhost:8080/"
        },
        "id": "ubzfWmp13zrl",
        "outputId": "01a410e9-3bca-4a46-8ce1-52ce559512e2"
      },
      "outputs": [
        {
          "output_type": "execute_result",
          "data": {
            "text/plain": [
              "array([5927.5619681 , 9174.72081906, 8253.13436679, ..., 2231.44661009,\n",
              "       4305.68775067, 4353.58747894])"
            ]
          },
          "metadata": {},
          "execution_count": 156
        }
      ],
      "source": [
        "ridge.predict(X_test)"
      ]
    },
    {
      "cell_type": "code",
      "execution_count": 157,
      "metadata": {
        "colab": {
          "base_uri": "https://localhost:8080/"
        },
        "id": "OrqTMHdr32y2",
        "outputId": "6b182441-8b81-428c-c414-1ad3a059c6ee"
      },
      "outputs": [
        {
          "output_type": "execute_result",
          "data": {
            "text/plain": [
              "0.7609335455978095"
            ]
          },
          "metadata": {},
          "execution_count": 157
        }
      ],
      "source": [
        "ridge.score(X_test, y_test)"
      ]
    },
    {
      "cell_type": "markdown",
      "metadata": {
        "id": "MO25_Po53-E4"
      },
      "source": [
        "### **Model - 4 - Decision Tree**"
      ]
    },
    {
      "cell_type": "code",
      "execution_count": 158,
      "metadata": {
        "id": "UyM2Mtq635g-"
      },
      "outputs": [],
      "source": [
        "dt = DecisionTreeRegressor(max_depth=5)"
      ]
    },
    {
      "cell_type": "code",
      "execution_count": 159,
      "metadata": {
        "colab": {
          "base_uri": "https://localhost:8080/"
        },
        "id": "8WrESNxZ4Slg",
        "outputId": "3ec5f92a-79a8-4837-8a76-1b9836055067"
      },
      "outputs": [
        {
          "output_type": "execute_result",
          "data": {
            "text/plain": [
              "DecisionTreeRegressor(max_depth=5)"
            ]
          },
          "metadata": {},
          "execution_count": 159
        }
      ],
      "source": [
        "dt.fit(X_train, y_train)"
      ]
    },
    {
      "cell_type": "code",
      "execution_count": 160,
      "metadata": {
        "id": "6CQEqJPU4TGF"
      },
      "outputs": [],
      "source": [
        "y_pred_dt = dt.predict(X_test)\n",
        "y_train_dt = dt.predict(X_train)"
      ]
    },
    {
      "cell_type": "code",
      "execution_count": 161,
      "metadata": {
        "colab": {
          "base_uri": "https://localhost:8080/"
        },
        "id": "hdCbCc-i4gPo",
        "outputId": "85162629-a184-4c05-c521-14d0df73f158"
      },
      "outputs": [
        {
          "output_type": "stream",
          "name": "stdout",
          "text": [
            "MSE : 2054241.5606572279\n",
            "RMSE : 1433.2625581718194\n",
            "R2 : 0.7873972039019176\n"
          ]
        }
      ],
      "source": [
        "# Print('dt_regressor R^2: ', r2(v_test,v_pred))\n",
        "MSE  = mean_squared_error(y_test, y_pred_dt)\n",
        "print(\"MSE :\" , MSE)\n",
        "\n",
        "RMSE = np.sqrt(MSE)\n",
        "print(\"RMSE :\" ,RMSE)\n",
        "\n",
        "r2 = r2_score(y_test, y_pred_dt)\n",
        "print(\"R2 :\" ,r2)"
      ]
    },
    {
      "cell_type": "markdown",
      "metadata": {
        "id": "xEGJgzd46Rcy"
      },
      "source": [
        "### **Model - 5 - Random Forest**"
      ]
    },
    {
      "cell_type": "code",
      "execution_count": 163,
      "metadata": {
        "id": "0gsmU4fA4nUF"
      },
      "outputs": [],
      "source": [
        "random_forest=RandomForestRegressor(n_estimators =500,max_depth=8)\n",
        "random_forest.fit(X_train, y_train)\n",
        "y_pred_rf=random_forest.predict(X_test)"
      ]
    },
    {
      "cell_type": "code",
      "execution_count": 164,
      "metadata": {
        "colab": {
          "base_uri": "https://localhost:8080/"
        },
        "id": "fgMQd3GM6z0n",
        "outputId": "bdbcf56c-97a2-4418-d7d8-a58ef49c4cda"
      },
      "outputs": [
        {
          "output_type": "stream",
          "name": "stdout",
          "text": [
            "MSE : 1271108.379084089\n",
            "RMSE : 1127.43442340745\n",
            "R2 : 0.8684472163777475\n"
          ]
        }
      ],
      "source": [
        "MSE  = mean_squared_error(y_test, y_pred_rf)\n",
        "print(\"MSE :\" , MSE)\n",
        "\n",
        "RMSE = np.sqrt(MSE)\n",
        "print(\"RMSE :\" ,RMSE)\n",
        "\n",
        "r2 = r2_score(y_test, y_pred_rf)\n",
        "print(\"R2 :\" ,r2)"
      ]
    },
    {
      "cell_type": "code",
      "execution_count": 165,
      "metadata": {
        "id": "6qEPbEiL7OpN",
        "colab": {
          "base_uri": "https://localhost:8080/",
          "height": 514
        },
        "outputId": "23422c89-3d3f-4ceb-ae0b-7f83dbf32884"
      },
      "outputs": [
        {
          "output_type": "execute_result",
          "data": {
            "text/plain": [
              "Text(0, 0.5, 'Predicted values')"
            ]
          },
          "metadata": {},
          "execution_count": 165
        },
        {
          "output_type": "display_data",
          "data": {
            "text/plain": [
              "<Figure size 576x576 with 1 Axes>"
            ],
            "image/png": "[encoded data removed]"
          },
          "metadata": {
            "needs_background": "light"
          }
        }
      ],
      "source": [
        "plt.figure(figsize=(8,8))\n",
        "plt.scatter(y_test, y_pred_rf)\n",
        "\n",
        "p1 = max(max(y_pred_rf),max(y_test))\n",
        "p2 = min(min(y_pred_rf),min(y_test))\n",
        "plt.plot([p1,p2],[p1,p2],c='r')\n",
        "plt.xlabel('Actual values')\n",
        "plt.ylabel('Predicted values')"
      ]
    },
    {
      "cell_type": "markdown",
      "source": [
        "### **Important Features**"
      ],
      "metadata": {
        "id": "15gxjjyDhZ--"
      }
    },
    {
      "cell_type": "code",
      "source": [],
      "metadata": {
        "id": "E3vO4P64iZZU"
      },
      "execution_count": null,
      "outputs": []
    }
  ],
  "metadata": {
    "colab": {
      "collapsed_sections": [],
      "provenance": []
    },
    "kernelspec": {
      "display_name": "Python 3",
      "language": "python",
      "name": "python3"
    },
    "language_info": {
      "codemirror_mode": {
        "name": "ipython",
        "version": 3
      },
      "file_extension": ".py",
      "mimetype": "text/x-python",
      "name": "python",
      "nbconvert_exporter": "python",
      "pygments_lexer": "ipython3",
      "version": "3.6.6"
    }
  },
  "nbformat": 4,
  "nbformat_minor": 0
}